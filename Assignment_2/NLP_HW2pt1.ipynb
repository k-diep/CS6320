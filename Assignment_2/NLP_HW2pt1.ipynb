{
 "cells": [
  {
   "cell_type": "markdown",
   "metadata": {
    "id": "1h6LtkX9YIed"
   },
   "source": [
    "## Used Google Colab, need this extra step to mount the drive. Other Jupyter notebooks can skip this step"
   ]
  },
  {
   "cell_type": "code",
   "execution_count": null,
   "metadata": {
    "colab": {
     "base_uri": "https://localhost:8080/"
    },
    "id": "s1mIHhEPLoei",
    "outputId": "edda4439-6e3f-4720-d771-89407e34c149"
   },
   "outputs": [
    {
     "name": "stdout",
     "output_type": "stream",
     "text": [
      "Mounted at /content/drive\n"
     ]
    }
   ],
   "source": [
    "from google.colab import drive\n",
    "\n",
    "# Mount Google Drive\n",
    "drive.mount('/content/drive')"
   ]
  },
  {
   "cell_type": "code",
   "execution_count": null,
   "metadata": {
    "id": "KPGR9ivmMDI0"
   },
   "outputs": [],
   "source": [
    "folder_path = '/content/drive/MyDrive/NLP_Data/data/'\n"
   ]
  },
  {
   "cell_type": "code",
   "execution_count": null,
   "metadata": {
    "id": "xdaJyk4FQPD2"
   },
   "outputs": [],
   "source": [
    "import sys\n",
    "import nltk\n",
    "import pickle\n",
    "from nltk.tokenize import word_tokenize, sent_tokenize\n",
    "from nltk.util import bigrams\n",
    "from collections import defaultdict"
   ]
  },
  {
   "cell_type": "code",
   "execution_count": null,
   "metadata": {
    "colab": {
     "base_uri": "https://localhost:8080/"
    },
    "id": "s4N-LrdRR7nP",
    "outputId": "821fd7e9-75d0-45a6-e18e-8d44fd267140"
   },
   "outputs": [
    {
     "name": "stderr",
     "output_type": "stream",
     "text": [
      "[nltk_data] Downloading package punkt to /root/nltk_data...\n",
      "[nltk_data]   Unzipping tokenizers/punkt.zip.\n"
     ]
    },
    {
     "data": {
      "text/plain": [
       "True"
      ]
     },
     "execution_count": 5,
     "metadata": {},
     "output_type": "execute_result"
    }
   ],
   "source": [
    "nltk.download('punkt')"
   ]
  },
  {
   "cell_type": "markdown",
   "metadata": {
    "id": "kNYS6nH8m_Yu"
   },
   "source": [
    "1a. Create a function with a filename as argument; the function will:\n",
    "\n",
    "*   read in the file text and remove newlines\n",
    "*   tokenize the text\n",
    "*   use nltk to create a bigrams list\n",
    "*   use nltk to create a unigrams list\n",
    "*   use the bigram list to create a bigram dictionary of bigrams and counts\n",
    "> ‘token1 token2’ -> count\n",
    "> note that (‘token1’, ‘token2’) also works as a key\n",
    "*   use the unigram list to create a unigram dictionary of unigrams and counts,\n",
    "> ‘token’ -> count\n",
    "*   return both the unigram dictionary and bigram dictionary from the function\n",
    "\n",
    "\n"
   ]
  },
  {
   "cell_type": "code",
   "execution_count": null,
   "metadata": {
    "id": "OxGNuVx4MwF0"
   },
   "outputs": [],
   "source": [
    "def bigram_and_unigram_dict(filename):\n",
    "  file_path = folder_path + filename\n",
    "\n",
    "   # Attempt to open the file\n",
    "  try:\n",
    "    with open(file_path, 'r') as file:\n",
    "      raw_text = file.read()\n",
    "\n",
    "  # Catch if file could not be found\n",
    "  except FileNotFoundError:\n",
    "    print(\"The file, \", filename, \", cannot be found\")\n",
    "    sys.exit(1)\n",
    "\n",
    "  # Catch all other errors\n",
    "  except Exception as e:\n",
    "    print(e)\n",
    "    sys.exit(1)\n",
    "\n",
    "  # print(raw_text[:100])\n",
    "\n",
    "  # Remove newlines\n",
    "  remove_newline_text = raw_text.replace('\\n', '')\n",
    "  # print(\"\\n\", remove_newline_text[:100])\n",
    "\n",
    "  # Adapted from: https://github.com/kjmazidi/NLP/blob/master/Part_2-Words/Chapter_08_ngrams/8_ngrams_1.ipynb\n",
    "  # Tokenize words\n",
    "  words = word_tokenize(remove_newline_text)\n",
    "  # print(words[:100])\n",
    "\n",
    "  # Create Bigrams\n",
    "  bigram_list = list(bigrams(words))\n",
    "\n",
    "  # Create Unigrams (exact same thing as the result of word_tokenize)\n",
    "  unigram_list = words\n",
    "\n",
    "  # Create Bigram Dictionary Bigram:count\n",
    "  bigram_dict = {b:bigram_list.count(b) for b in set(bigram_list)}\n",
    "  # print(bigram_dict)\n",
    "\n",
    "  # Create Unigram Dictionary Unigram:count\n",
    "  unigram_dict = {t:unigram_list.count(t) for t in set(unigram_list)}\n",
    "  # print(unigram_dict)\n",
    "\n",
    "  return unigram_dict, bigram_dict"
   ]
  },
  {
   "cell_type": "markdown",
   "metadata": {
    "id": "pf62kodzuRhC"
   },
   "source": [
    "## Calling the function 3 times, once for each training file (hard code the test names)"
   ]
  },
  {
   "cell_type": "code",
   "execution_count": null,
   "metadata": {
    "id": "gR8oNXmlNfQ-"
   },
   "outputs": [],
   "source": [
    "english_test_name = \"LangId.train.English.txt\"\n",
    "french_test_name = \"LangId.train.French.txt\"\n",
    "italian_test_name = \"LangId.train.Italian.txt\""
   ]
  },
  {
   "cell_type": "code",
   "execution_count": null,
   "metadata": {
    "id": "6sLbbdelXqII"
   },
   "outputs": [],
   "source": [
    "english_unigram, english_bigram = bigram_and_unigram_dict(english_test_name)"
   ]
  },
  {
   "cell_type": "code",
   "execution_count": null,
   "metadata": {
    "id": "CY4PT1OgrtvU"
   },
   "outputs": [],
   "source": [
    "french_unigram, french_bigram = bigram_and_unigram_dict(french_test_name)"
   ]
  },
  {
   "cell_type": "code",
   "execution_count": null,
   "metadata": {
    "id": "N9aAvOYXsgEd"
   },
   "outputs": [],
   "source": [
    "italian_unigram, italian_bigram = bigram_and_unigram_dict(italian_test_name)"
   ]
  },
  {
   "cell_type": "markdown",
   "metadata": {
    "id": "PW-WKxKom8oo"
   },
   "source": [
    "## Sorting the unigrams and bigrams by descending order. Printing the first 10 of each ordered dictionary. For demonstation only."
   ]
  },
  {
   "cell_type": "code",
   "execution_count": null,
   "metadata": {
    "id": "bRJ1uJZoYGal"
   },
   "outputs": [],
   "source": [
    "# Sorting the dict and printing the first 10 options\n",
    "def sort_dict_and_print(dict):\n",
    "  sorted_items = sorted(dict.items(), key=lambda x: x[1], reverse=True)\n",
    "  print(\"Top 10 key-value pairs:\")\n",
    "  for i in range(10):\n",
    "    print(sorted_items[i])"
   ]
  },
  {
   "cell_type": "code",
   "execution_count": null,
   "metadata": {
    "colab": {
     "base_uri": "https://localhost:8080/"
    },
    "id": "U87l4TfSl7AU",
    "outputId": "f0cae5bf-5dc2-4498-a77d-66b67e7b99fc"
   },
   "outputs": [
    {
     "name": "stdout",
     "output_type": "stream",
     "text": [
      "Top 10 key-value pairs:\n",
      "('the', 5310)\n",
      "(',', 3853)\n",
      "('.', 2832)\n",
      "('of', 2754)\n",
      "('to', 2480)\n",
      "('and', 2027)\n",
      "('in', 1506)\n",
      "('is', 1296)\n",
      "('a', 1274)\n",
      "('that', 1154)\n"
     ]
    }
   ],
   "source": [
    "sort_dict_and_print(english_unigram)"
   ]
  },
  {
   "cell_type": "code",
   "execution_count": null,
   "metadata": {
    "colab": {
     "base_uri": "https://localhost:8080/"
    },
    "id": "AiuBGlQGmEYx",
    "outputId": "a4e4c7a3-8114-4bd8-83e6-91beeae01a8b"
   },
   "outputs": [
    {
     "name": "stdout",
     "output_type": "stream",
     "text": [
      "Top 10 key-value pairs:\n",
      "(('of', 'the'), 903)\n",
      "(('in', 'the'), 418)\n",
      "(('.', 'The'), 341)\n",
      "(('to', 'the'), 330)\n",
      "((',', 'the'), 311)\n",
      "(('on', 'the'), 289)\n",
      "(('.', 'I'), 260)\n",
      "((\"'\", '-'), 248)\n",
      "(('and', 'the'), 238)\n",
      "(('.', 'We'), 235)\n"
     ]
    }
   ],
   "source": [
    "sort_dict_and_print(english_bigram)"
   ]
  },
  {
   "cell_type": "code",
   "execution_count": null,
   "metadata": {
    "colab": {
     "base_uri": "https://localhost:8080/"
    },
    "id": "nvTCfcT5tENF",
    "outputId": "be464c22-7ef2-49e8-d8e6-45c15473bf7a"
   },
   "outputs": [
    {
     "name": "stdout",
     "output_type": "stream",
     "text": [
      "Top 10 key-value pairs:\n",
      "(\"'\", 4548)\n",
      "(',', 4286)\n",
      "('de', 3985)\n",
      "('.', 2825)\n",
      "('la', 2437)\n",
      "('-', 2359)\n",
      "('et', 1862)\n",
      "('l', 1786)\n",
      "('le', 1669)\n",
      "('à', 1577)\n"
     ]
    }
   ],
   "source": [
    "sort_dict_and_print(french_unigram)"
   ]
  },
  {
   "cell_type": "code",
   "execution_count": null,
   "metadata": {
    "colab": {
     "base_uri": "https://localhost:8080/"
    },
    "id": "s3WDiQCntIUN",
    "outputId": "fa162ccc-1323-4209-966a-a944df704d5f"
   },
   "outputs": [
    {
     "name": "stdout",
     "output_type": "stream",
     "text": [
      "Top 10 key-value pairs:\n",
      "(('l', \"'\"), 1786)\n",
      "(('d', \"'\"), 1158)\n",
      "((\"'\", '-'), 1040)\n",
      "(('de', 'la'), 723)\n",
      "(('de', 'l'), 541)\n",
      "(('qu', \"'\"), 440)\n",
      "(('n', \"'\"), 267)\n",
      "((\"'\", 'est'), 263)\n",
      "(('à', 'l'), 242)\n",
      "(('.', 'Il'), 240)\n"
     ]
    }
   ],
   "source": [
    "sort_dict_and_print(french_bigram)"
   ]
  },
  {
   "cell_type": "code",
   "execution_count": null,
   "metadata": {
    "colab": {
     "base_uri": "https://localhost:8080/"
    },
    "id": "_39etQAgtn6K",
    "outputId": "78cfaf65-cd53-4c54-916c-888fc9b9ec97"
   },
   "outputs": [
    {
     "name": "stdout",
     "output_type": "stream",
     "text": [
      "Top 10 key-value pairs:\n",
      "(',', 4013)\n",
      "('.', 2845)\n",
      "('di', 2676)\n",
      "(\"'\", 2164)\n",
      "('che', 1949)\n",
      "('e', 1714)\n",
      "('la', 1459)\n",
      "('il', 1224)\n",
      "('in', 1133)\n",
      "('per', 966)\n"
     ]
    }
   ],
   "source": [
    "sort_dict_and_print(italian_unigram)"
   ]
  },
  {
   "cell_type": "code",
   "execution_count": null,
   "metadata": {
    "colab": {
     "base_uri": "https://localhost:8080/"
    },
    "id": "zC8j3IdMtoFk",
    "outputId": "854c9abb-7133-4eb5-d385-bdf9a425d336"
   },
   "outputs": [
    {
     "name": "stdout",
     "output_type": "stream",
     "text": [
      "Top 10 key-value pairs:\n",
      "(('l', \"'\"), 715)\n",
      "(('dell', \"'\"), 432)\n",
      "(('Presidente', ','), 227)\n",
      "((',', 'che'), 216)\n",
      "(('.', 'La'), 215)\n",
      "(('Signor', 'Presidente'), 179)\n",
      "(('all', \"'\"), 160)\n",
      "((',', 'ma'), 158)\n",
      "((',', 'in'), 157)\n",
      "((\"'\", 'Unione'), 152)\n"
     ]
    }
   ],
   "source": [
    "sort_dict_and_print(italian_bigram)"
   ]
  },
  {
   "cell_type": "markdown",
   "metadata": {
    "id": "fzmLzF-4vYXd"
   },
   "source": [
    "## Pickling all dictionaries"
   ]
  },
  {
   "cell_type": "code",
   "execution_count": null,
   "metadata": {
    "id": "2uDXlsIUvV7Z"
   },
   "outputs": [],
   "source": [
    "# Hard Coded this step as well\n",
    "pickle_path = '/content/drive/MyDrive/NLP_Data'\n",
    "\n",
    "with open(pickle_path + 'english_unigram.pickle', 'wb') as handle:\n",
    "  pickle.dump(english_unigram, handle)\n",
    "\n",
    "with open(pickle_path + 'english_bigram.pickle', 'wb') as handle:\n",
    "  pickle.dump(english_bigram, handle)\n",
    "\n",
    "with open(pickle_path + 'french_unigram.pickle', 'wb') as handle:\n",
    "  pickle.dump(french_unigram, handle)\n",
    "\n",
    "with open(pickle_path + 'french_bigram.pickle', 'wb') as handle:\n",
    "  pickle.dump(french_bigram, handle)\n",
    "\n",
    "with open(pickle_path + 'italian_unigram.pickle', 'wb') as handle:\n",
    "  pickle.dump(italian_unigram, handle)\n",
    "\n",
    "with open(pickle_path + 'italian_bigram.pickle', 'wb') as handle:\n",
    "  pickle.dump(italian_bigram, handle)"
   ]
  },
  {
   "cell_type": "code",
   "execution_count": null,
   "metadata": {
    "id": "_0m8nQG1vv6s"
   },
   "outputs": [],
   "source": [
    "def show_pickle_comparison(pickle_name):\n",
    "  with open(pickle_path + pickle_name, 'rb') as handle:\n",
    "    new_dict = pickle.load(handle)\n",
    "\n",
    "  sort_dict_and_print(new_dict)"
   ]
  },
  {
   "cell_type": "code",
   "execution_count": null,
   "metadata": {
    "colab": {
     "base_uri": "https://localhost:8080/"
    },
    "id": "mpvYiPoGznQB",
    "outputId": "ddd6ef2c-dbe0-4ed7-b08e-6698e2a79267"
   },
   "outputs": [
    {
     "name": "stdout",
     "output_type": "stream",
     "text": [
      "Top 10 key-value pairs:\n",
      "('the', 5310)\n",
      "(',', 3853)\n",
      "('.', 2832)\n",
      "('of', 2754)\n",
      "('to', 2480)\n",
      "('and', 2027)\n",
      "('in', 1506)\n",
      "('is', 1296)\n",
      "('a', 1274)\n",
      "('that', 1154)\n"
     ]
    }
   ],
   "source": [
    "show_pickle_comparison('english_unigram.pickle')"
   ]
  },
  {
   "cell_type": "code",
   "execution_count": null,
   "metadata": {
    "colab": {
     "base_uri": "https://localhost:8080/"
    },
    "id": "RAPrkeX-0SGu",
    "outputId": "651a0ef8-5f77-4c56-a188-19497c4ab07e"
   },
   "outputs": [
    {
     "name": "stdout",
     "output_type": "stream",
     "text": [
      "Top 10 key-value pairs:\n",
      "(('of', 'the'), 903)\n",
      "(('in', 'the'), 418)\n",
      "(('.', 'The'), 341)\n",
      "(('to', 'the'), 330)\n",
      "((',', 'the'), 311)\n",
      "(('on', 'the'), 289)\n",
      "(('.', 'I'), 260)\n",
      "((\"'\", '-'), 248)\n",
      "(('and', 'the'), 238)\n",
      "(('.', 'We'), 235)\n"
     ]
    }
   ],
   "source": [
    "show_pickle_comparison('english_bigram.pickle')"
   ]
  },
  {
   "cell_type": "code",
   "execution_count": null,
   "metadata": {
    "colab": {
     "base_uri": "https://localhost:8080/"
    },
    "id": "c0F2UmCr0RAg",
    "outputId": "315946aa-42ca-425d-ff6b-9ad5f50751e5"
   },
   "outputs": [
    {
     "name": "stdout",
     "output_type": "stream",
     "text": [
      "Top 10 key-value pairs:\n",
      "(\"'\", 4548)\n",
      "(',', 4286)\n",
      "('de', 3985)\n",
      "('.', 2825)\n",
      "('la', 2437)\n",
      "('-', 2359)\n",
      "('et', 1862)\n",
      "('l', 1786)\n",
      "('le', 1669)\n",
      "('à', 1577)\n"
     ]
    }
   ],
   "source": [
    "show_pickle_comparison('french_unigram.pickle')"
   ]
  },
  {
   "cell_type": "code",
   "execution_count": null,
   "metadata": {
    "colab": {
     "base_uri": "https://localhost:8080/"
    },
    "id": "pDUslYWT0SVt",
    "outputId": "e4723e15-a555-4114-8f8d-fa9bff378ca7"
   },
   "outputs": [
    {
     "name": "stdout",
     "output_type": "stream",
     "text": [
      "Top 10 key-value pairs:\n",
      "(('l', \"'\"), 1786)\n",
      "(('d', \"'\"), 1158)\n",
      "((\"'\", '-'), 1040)\n",
      "(('de', 'la'), 723)\n",
      "(('de', 'l'), 541)\n",
      "(('qu', \"'\"), 440)\n",
      "(('n', \"'\"), 267)\n",
      "((\"'\", 'est'), 263)\n",
      "(('à', 'l'), 242)\n",
      "(('.', 'Il'), 240)\n"
     ]
    }
   ],
   "source": [
    "show_pickle_comparison('french_bigram.pickle')"
   ]
  },
  {
   "cell_type": "code",
   "execution_count": null,
   "metadata": {
    "colab": {
     "base_uri": "https://localhost:8080/"
    },
    "id": "vVyQTOt60Sir",
    "outputId": "bf4f6f39-c7ac-41d1-fea2-cda3ab1a2012"
   },
   "outputs": [
    {
     "name": "stdout",
     "output_type": "stream",
     "text": [
      "Top 10 key-value pairs:\n",
      "(',', 4013)\n",
      "('.', 2845)\n",
      "('di', 2676)\n",
      "(\"'\", 2164)\n",
      "('che', 1949)\n",
      "('e', 1714)\n",
      "('la', 1459)\n",
      "('il', 1224)\n",
      "('in', 1133)\n",
      "('per', 966)\n"
     ]
    }
   ],
   "source": [
    "show_pickle_comparison('italian_unigram.pickle')"
   ]
  },
  {
   "cell_type": "code",
   "execution_count": null,
   "metadata": {
    "colab": {
     "base_uri": "https://localhost:8080/"
    },
    "id": "0M6KEUZW0SvQ",
    "outputId": "4af1eae8-38cd-40b2-bbdc-bd7256a81b1c"
   },
   "outputs": [
    {
     "name": "stdout",
     "output_type": "stream",
     "text": [
      "Top 10 key-value pairs:\n",
      "(('l', \"'\"), 715)\n",
      "(('dell', \"'\"), 432)\n",
      "(('Presidente', ','), 227)\n",
      "((',', 'che'), 216)\n",
      "(('.', 'La'), 215)\n",
      "(('Signor', 'Presidente'), 179)\n",
      "(('all', \"'\"), 160)\n",
      "((',', 'ma'), 158)\n",
      "((',', 'in'), 157)\n",
      "((\"'\", 'Unione'), 152)\n"
     ]
    }
   ],
   "source": [
    "show_pickle_comparison('italian_bigram.pickle')"
   ]
  }
 ],
 "metadata": {
  "colab": {
   "provenance": []
  },
  "kernelspec": {
   "display_name": "Python 3 (ipykernel)",
   "language": "python",
   "name": "python3"
  },
  "language_info": {
   "codemirror_mode": {
    "name": "ipython",
    "version": 3
   },
   "file_extension": ".py",
   "mimetype": "text/x-python",
   "name": "python",
   "nbconvert_exporter": "python",
   "pygments_lexer": "ipython3",
   "version": "3.9.13"
  }
 },
 "nbformat": 4,
 "nbformat_minor": 1
}
