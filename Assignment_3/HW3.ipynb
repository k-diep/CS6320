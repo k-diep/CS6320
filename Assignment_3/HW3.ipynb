{
  "nbformat": 4,
  "nbformat_minor": 0,
  "metadata": {
    "colab": {
      "provenance": []
    },
    "kernelspec": {
      "name": "python3",
      "display_name": "Python 3"
    },
    "language_info": {
      "name": "python"
    }
  },
  "cells": [
    {
      "cell_type": "markdown",
      "source": [
        "# Importing Dataset:\n",
        "# https://www.kaggle.com/datasets/arashnic/game-review-dataset"
      ],
      "metadata": {
        "id": "e-_fXvj920vv"
      }
    },
    {
      "cell_type": "markdown",
      "source": [
        "In this dataset, under train_gt there exists a csv file called train.csv. Columns are review_id, title, year, user_review, user_suggestion. The \"X\" value will be user_review. This will be a user's review of a game in text. The \"y\" value will be user_suggestion. This will be if the review of the game is positive or negative (1 or 0). The other columns are discarded. The purpose is to determine a review's score from some review text."
      ],
      "metadata": {
        "id": "oWdBTIkV1Qoz"
      }
    },
    {
      "cell_type": "code",
      "execution_count": 3,
      "metadata": {
        "id": "nL3OetJjGhTE",
        "colab": {
          "base_uri": "https://localhost:8080/",
          "height": 0
        },
        "outputId": "8c5ddaa6-8e76-400a-e65e-074677b23147"
      },
      "outputs": [
        {
          "output_type": "stream",
          "name": "stdout",
          "text": [
            "rows and columns: (17494, 2)\n",
            "                                         user_review  user_suggestion\n",
            "0  I'm scared and hearing creepy voices.  So I'll...                1\n",
            "1  Best game, more better than Sam Pepper's YouTu...                1\n",
            "2  A littly iffy on the controls, but once you kn...                1\n",
            "3  Great game, fun and colorful and all that.A si...                1\n",
            "4  Not many games have the cute tag right next to...                1\n"
          ]
        }
      ],
      "source": [
        "import pandas as pd\n",
        "df = pd.read_csv('train.csv', header=0, usecols=[3, 4], encoding='latin-1')\n",
        "print('rows and columns:', df.shape)\n",
        "print(df.head())"
      ]
    },
    {
      "cell_type": "markdown",
      "source": [
        "# Text Preprocessing:"
      ],
      "metadata": {
        "id": "vjmowuay7K1M"
      }
    },
    {
      "cell_type": "code",
      "source": [
        "import nltk\n",
        "from nltk.corpus import stopwords\n",
        "from sklearn.feature_extraction.text import TfidfVectorizer\n",
        "\n",
        "nltk.download('stopwords')"
      ],
      "metadata": {
        "colab": {
          "base_uri": "https://localhost:8080/",
          "height": 0
        },
        "id": "vR7zstW07v--",
        "outputId": "3665198f-07e1-4e55-85bf-76ea2c262b51"
      },
      "execution_count": 4,
      "outputs": [
        {
          "output_type": "stream",
          "name": "stderr",
          "text": [
            "[nltk_data] Downloading package stopwords to /root/nltk_data...\n",
            "[nltk_data]   Package stopwords is already up-to-date!\n"
          ]
        },
        {
          "output_type": "execute_result",
          "data": {
            "text/plain": [
              "True"
            ]
          },
          "metadata": {},
          "execution_count": 4
        }
      ]
    },
    {
      "cell_type": "code",
      "source": [
        "# # Initialize the TF-IDF vectorizer with stop word out\n",
        "vectorizer = TfidfVectorizer(stop_words='english')"
      ],
      "metadata": {
        "id": "VvBl1gNY72g0"
      },
      "execution_count": 5,
      "outputs": []
    },
    {
      "cell_type": "code",
      "source": [
        "X = df.user_review\n",
        "y = df.user_suggestion"
      ],
      "metadata": {
        "id": "q2uxtc2N8TgX"
      },
      "execution_count": 6,
      "outputs": []
    },
    {
      "cell_type": "code",
      "source": [
        "X.head()"
      ],
      "metadata": {
        "colab": {
          "base_uri": "https://localhost:8080/",
          "height": 0
        },
        "id": "24hw0jxs8aew",
        "outputId": "a6ff66e8-0d05-496e-f00b-4860a3cead5c"
      },
      "execution_count": 7,
      "outputs": [
        {
          "output_type": "execute_result",
          "data": {
            "text/plain": [
              "0    I'm scared and hearing creepy voices.  So I'll...\n",
              "1    Best game, more better than Sam Pepper's YouTu...\n",
              "2    A littly iffy on the controls, but once you kn...\n",
              "3    Great game, fun and colorful and all that.A si...\n",
              "4    Not many games have the cute tag right next to...\n",
              "Name: user_review, dtype: object"
            ]
          },
          "metadata": {},
          "execution_count": 7
        }
      ]
    },
    {
      "cell_type": "code",
      "source": [
        "print(y[:10])"
      ],
      "metadata": {
        "colab": {
          "base_uri": "https://localhost:8080/",
          "height": 0
        },
        "id": "FKIg1hpy8fir",
        "outputId": "2ac1c3f5-1c9d-4f61-ecb8-ba977cc050e7"
      },
      "execution_count": 8,
      "outputs": [
        {
          "output_type": "stream",
          "name": "stdout",
          "text": [
            "0    1\n",
            "1    1\n",
            "2    1\n",
            "3    1\n",
            "4    1\n",
            "5    1\n",
            "6    1\n",
            "7    1\n",
            "8    0\n",
            "9    1\n",
            "Name: user_suggestion, dtype: int64\n"
          ]
        }
      ]
    },
    {
      "cell_type": "markdown",
      "source": [
        "# Spliting the data\n",
        "Split the data into train and test sets. 20% of the data going to the test set."
      ],
      "metadata": {
        "id": "NmJoIW1G-L9b"
      }
    },
    {
      "cell_type": "code",
      "source": [
        "from sklearn.model_selection import train_test_split\n",
        "# Split 80% train and 20% test.\n",
        "X_train, X_test, y_train, y_test = train_test_split(X, y, test_size=0.2, random_state=49)\n",
        "print(X_train.shape)\n",
        "print(X_test.shape)"
      ],
      "metadata": {
        "colab": {
          "base_uri": "https://localhost:8080/",
          "height": 0
        },
        "id": "ucWOCXon-Fs2",
        "outputId": "c6bb722c-0a34-450f-979e-b0769973a040"
      },
      "execution_count": 9,
      "outputs": [
        {
          "output_type": "stream",
          "name": "stdout",
          "text": [
            "(13995,)\n",
            "(3499,)\n"
          ]
        }
      ]
    },
    {
      "cell_type": "code",
      "source": [
        "# apply tfidf vectorizer\n",
        "X_train = vectorizer.fit_transform(X_train)  # fit and transform the train data\n",
        "X_test = vectorizer.transform(X_test)        # transform only the test data"
      ],
      "metadata": {
        "id": "27RlTM_W-Xz3"
      },
      "execution_count": 10,
      "outputs": []
    },
    {
      "cell_type": "code",
      "source": [
        "print('train size:', X_train.shape)\n",
        "print('test size:', X_test.shape)"
      ],
      "metadata": {
        "colab": {
          "base_uri": "https://localhost:8080/",
          "height": 0
        },
        "id": "8i5bq_jo-0ZC",
        "outputId": "9739930d-f048-40ac-eed0-5482b594c5fe"
      },
      "execution_count": 11,
      "outputs": [
        {
          "output_type": "stream",
          "name": "stdout",
          "text": [
            "train size: (13995, 47176)\n",
            "test size: (3499, 47176)\n"
          ]
        }
      ]
    },
    {
      "cell_type": "markdown",
      "source": [
        "# Step 0. Graph"
      ],
      "metadata": {
        "id": "ZoPyxBJ05Xy3"
      }
    },
    {
      "cell_type": "code",
      "source": [
        "import seaborn as sns\n",
        "import matplotlib.pyplot as plt\n",
        "\n",
        "# Set the style of the seaborn plot\n",
        "sns.set(style=\"whitegrid\")\n",
        "\n",
        "\n",
        "# Adjust the figure size\n",
        "plt.figure(figsize=(8, 6))\n",
        "\n",
        "# Adjust the color palette\n",
        "sns.countplot(x='user_suggestion', data=df, palette=\"Set2\")\n",
        "\n",
        "# Change font size for x-axis and label\n",
        "plt.xlabel('User Suggestion', fontsize=16)\n",
        "# Change font size for y-axis and label\n",
        "plt.ylabel('Count', fontsize=16)\n",
        "\n",
        "# Increase font size for title\n",
        "plt.title('User Suggestions Distribution', fontsize=20)\n",
        "\n",
        "plt.show()\n"
      ],
      "metadata": {
        "colab": {
          "base_uri": "https://localhost:8080/",
          "height": 673
        },
        "id": "6y2-L9fL5-3i",
        "outputId": "52771130-1391-4c4d-b315-542f878fa98d"
      },
      "execution_count": 12,
      "outputs": [
        {
          "output_type": "stream",
          "name": "stderr",
          "text": [
            "<ipython-input-12-33cf0e8d6230>:12: FutureWarning: \n",
            "\n",
            "Passing `palette` without assigning `hue` is deprecated and will be removed in v0.14.0. Assign the `x` variable to `hue` and set `legend=False` for the same effect.\n",
            "\n",
            "  sns.countplot(x='user_suggestion', data=df, palette=\"Set2\")\n"
          ]
        },
        {
          "output_type": "display_data",
          "data": {
            "text/plain": [
              "<Figure size 800x600 with 1 Axes>"
            ],
            "image/png": "[encoded data removed]"
          },
          "metadata": {}
        }
      ]
    },
    {
      "cell_type": "markdown",
      "source": [
        "# Step 1. Naive Bayes"
      ],
      "metadata": {
        "id": "s8SGIxu9CJpT"
      }
    },
    {
      "cell_type": "markdown",
      "source": [
        "## First Try"
      ],
      "metadata": {
        "id": "WZh7-4MbCXaJ"
      }
    },
    {
      "cell_type": "code",
      "source": [
        "from sklearn.naive_bayes import MultinomialNB\n",
        "from sklearn.metrics import accuracy_score, precision_score, recall_score, f1_score, confusion_matrix\n",
        "\n",
        "naive_bayes = MultinomialNB()\n",
        "naive_bayes.fit(X_train, y_train)"
      ],
      "metadata": {
        "colab": {
          "base_uri": "https://localhost:8080/",
          "height": 75
        },
        "id": "wbIVGw_1CGyk",
        "outputId": "be20bd32-9a2a-45e5-daa0-26efafe11604"
      },
      "execution_count": 13,
      "outputs": [
        {
          "output_type": "execute_result",
          "data": {
            "text/plain": [
              "MultinomialNB()"
            ],
            "text/html": [
              "<style>#sk-container-id-1 {color: black;background-color: white;}#sk-container-id-1 pre{padding: 0;}#sk-container-id-1 div.sk-toggleable {background-color: white;}#sk-container-id-1 label.sk-toggleable__label {cursor: pointer;display: block;width: 100%;margin-bottom: 0;padding: 0.3em;box-sizing: border-box;text-align: center;}#sk-container-id-1 label.sk-toggleable__label-arrow:before {content: \"▸\";float: left;margin-right: 0.25em;color: #696969;}#sk-container-id-1 label.sk-toggleable__label-arrow:hover:before {color: black;}#sk-container-id-1 div.sk-estimator:hover label.sk-toggleable__label-arrow:before {color: black;}#sk-container-id-1 div.sk-toggleable__content {max-height: 0;max-width: 0;overflow: hidden;text-align: left;background-color: #f0f8ff;}#sk-container-id-1 div.sk-toggleable__content pre {margin: 0.2em;color: black;border-radius: 0.25em;background-color: #f0f8ff;}#sk-container-id-1 input.sk-toggleable__control:checked~div.sk-toggleable__content {max-height: 200px;max-width: 100%;overflow: auto;}#sk-container-id-1 input.sk-toggleable__control:checked~label.sk-toggleable__label-arrow:before {content: \"▾\";}#sk-container-id-1 div.sk-estimator input.sk-toggleable__control:checked~label.sk-toggleable__label {background-color: #d4ebff;}#sk-container-id-1 div.sk-label input.sk-toggleable__control:checked~label.sk-toggleable__label {background-color: #d4ebff;}#sk-container-id-1 input.sk-hidden--visually {border: 0;clip: rect(1px 1px 1px 1px);clip: rect(1px, 1px, 1px, 1px);height: 1px;margin: -1px;overflow: hidden;padding: 0;position: absolute;width: 1px;}#sk-container-id-1 div.sk-estimator {font-family: monospace;background-color: #f0f8ff;border: 1px dotted black;border-radius: 0.25em;box-sizing: border-box;margin-bottom: 0.5em;}#sk-container-id-1 div.sk-estimator:hover {background-color: #d4ebff;}#sk-container-id-1 div.sk-parallel-item::after {content: \"\";width: 100%;border-bottom: 1px solid gray;flex-grow: 1;}#sk-container-id-1 div.sk-label:hover label.sk-toggleable__label {background-color: #d4ebff;}#sk-container-id-1 div.sk-serial::before {content: \"\";position: absolute;border-left: 1px solid gray;box-sizing: border-box;top: 0;bottom: 0;left: 50%;z-index: 0;}#sk-container-id-1 div.sk-serial {display: flex;flex-direction: column;align-items: center;background-color: white;padding-right: 0.2em;padding-left: 0.2em;position: relative;}#sk-container-id-1 div.sk-item {position: relative;z-index: 1;}#sk-container-id-1 div.sk-parallel {display: flex;align-items: stretch;justify-content: center;background-color: white;position: relative;}#sk-container-id-1 div.sk-item::before, #sk-container-id-1 div.sk-parallel-item::before {content: \"\";position: absolute;border-left: 1px solid gray;box-sizing: border-box;top: 0;bottom: 0;left: 50%;z-index: -1;}#sk-container-id-1 div.sk-parallel-item {display: flex;flex-direction: column;z-index: 1;position: relative;background-color: white;}#sk-container-id-1 div.sk-parallel-item:first-child::after {align-self: flex-end;width: 50%;}#sk-container-id-1 div.sk-parallel-item:last-child::after {align-self: flex-start;width: 50%;}#sk-container-id-1 div.sk-parallel-item:only-child::after {width: 0;}#sk-container-id-1 div.sk-dashed-wrapped {border: 1px dashed gray;margin: 0 0.4em 0.5em 0.4em;box-sizing: border-box;padding-bottom: 0.4em;background-color: white;}#sk-container-id-1 div.sk-label label {font-family: monospace;font-weight: bold;display: inline-block;line-height: 1.2em;}#sk-container-id-1 div.sk-label-container {text-align: center;}#sk-container-id-1 div.sk-container {/* jupyter's `normalize.less` sets `[hidden] { display: none; }` but bootstrap.min.css set `[hidden] { display: none !important; }` so we also need the `!important` here to be able to override the default hidden behavior on the sphinx rendered scikit-learn.org. See: https://github.com/scikit-learn/scikit-learn/issues/21755 */display: inline-block !important;position: relative;}#sk-container-id-1 div.sk-text-repr-fallback {display: none;}</style><div id=\"sk-container-id-1\" class=\"sk-top-container\"><div class=\"sk-text-repr-fallback\"><pre>MultinomialNB()</pre><b>In a Jupyter environment, please rerun this cell to show the HTML representation or trust the notebook. <br />On GitHub, the HTML representation is unable to render, please try loading this page with nbviewer.org.</b></div><div class=\"sk-container\" hidden><div class=\"sk-item\"><div class=\"sk-estimator sk-toggleable\"><input class=\"sk-toggleable__control sk-hidden--visually\" id=\"sk-estimator-id-1\" type=\"checkbox\" checked><label for=\"sk-estimator-id-1\" class=\"sk-toggleable__label sk-toggleable__label-arrow\">MultinomialNB</label><div class=\"sk-toggleable__content\"><pre>MultinomialNB()</pre></div></div></div></div></div>"
            ]
          },
          "metadata": {},
          "execution_count": 13
        }
      ]
    },
    {
      "cell_type": "code",
      "source": [
        "MultinomialNB(alpha=1.0, class_prior=None, fit_prior=True)"
      ],
      "metadata": {
        "colab": {
          "base_uri": "https://localhost:8080/",
          "height": 75
        },
        "id": "2aHmK1JXBU8i",
        "outputId": "9b81d7fa-b0fe-4dba-afd8-d1641455b640"
      },
      "execution_count": 14,
      "outputs": [
        {
          "output_type": "execute_result",
          "data": {
            "text/plain": [
              "MultinomialNB()"
            ],
            "text/html": [
              "<style>#sk-container-id-2 {color: black;background-color: white;}#sk-container-id-2 pre{padding: 0;}#sk-container-id-2 div.sk-toggleable {background-color: white;}#sk-container-id-2 label.sk-toggleable__label {cursor: pointer;display: block;width: 100%;margin-bottom: 0;padding: 0.3em;box-sizing: border-box;text-align: center;}#sk-container-id-2 label.sk-toggleable__label-arrow:before {content: \"▸\";float: left;margin-right: 0.25em;color: #696969;}#sk-container-id-2 label.sk-toggleable__label-arrow:hover:before {color: black;}#sk-container-id-2 div.sk-estimator:hover label.sk-toggleable__label-arrow:before {color: black;}#sk-container-id-2 div.sk-toggleable__content {max-height: 0;max-width: 0;overflow: hidden;text-align: left;background-color: #f0f8ff;}#sk-container-id-2 div.sk-toggleable__content pre {margin: 0.2em;color: black;border-radius: 0.25em;background-color: #f0f8ff;}#sk-container-id-2 input.sk-toggleable__control:checked~div.sk-toggleable__content {max-height: 200px;max-width: 100%;overflow: auto;}#sk-container-id-2 input.sk-toggleable__control:checked~label.sk-toggleable__label-arrow:before {content: \"▾\";}#sk-container-id-2 div.sk-estimator input.sk-toggleable__control:checked~label.sk-toggleable__label {background-color: #d4ebff;}#sk-container-id-2 div.sk-label input.sk-toggleable__control:checked~label.sk-toggleable__label {background-color: #d4ebff;}#sk-container-id-2 input.sk-hidden--visually {border: 0;clip: rect(1px 1px 1px 1px);clip: rect(1px, 1px, 1px, 1px);height: 1px;margin: -1px;overflow: hidden;padding: 0;position: absolute;width: 1px;}#sk-container-id-2 div.sk-estimator {font-family: monospace;background-color: #f0f8ff;border: 1px dotted black;border-radius: 0.25em;box-sizing: border-box;margin-bottom: 0.5em;}#sk-container-id-2 div.sk-estimator:hover {background-color: #d4ebff;}#sk-container-id-2 div.sk-parallel-item::after {content: \"\";width: 100%;border-bottom: 1px solid gray;flex-grow: 1;}#sk-container-id-2 div.sk-label:hover label.sk-toggleable__label {background-color: #d4ebff;}#sk-container-id-2 div.sk-serial::before {content: \"\";position: absolute;border-left: 1px solid gray;box-sizing: border-box;top: 0;bottom: 0;left: 50%;z-index: 0;}#sk-container-id-2 div.sk-serial {display: flex;flex-direction: column;align-items: center;background-color: white;padding-right: 0.2em;padding-left: 0.2em;position: relative;}#sk-container-id-2 div.sk-item {position: relative;z-index: 1;}#sk-container-id-2 div.sk-parallel {display: flex;align-items: stretch;justify-content: center;background-color: white;position: relative;}#sk-container-id-2 div.sk-item::before, #sk-container-id-2 div.sk-parallel-item::before {content: \"\";position: absolute;border-left: 1px solid gray;box-sizing: border-box;top: 0;bottom: 0;left: 50%;z-index: -1;}#sk-container-id-2 div.sk-parallel-item {display: flex;flex-direction: column;z-index: 1;position: relative;background-color: white;}#sk-container-id-2 div.sk-parallel-item:first-child::after {align-self: flex-end;width: 50%;}#sk-container-id-2 div.sk-parallel-item:last-child::after {align-self: flex-start;width: 50%;}#sk-container-id-2 div.sk-parallel-item:only-child::after {width: 0;}#sk-container-id-2 div.sk-dashed-wrapped {border: 1px dashed gray;margin: 0 0.4em 0.5em 0.4em;box-sizing: border-box;padding-bottom: 0.4em;background-color: white;}#sk-container-id-2 div.sk-label label {font-family: monospace;font-weight: bold;display: inline-block;line-height: 1.2em;}#sk-container-id-2 div.sk-label-container {text-align: center;}#sk-container-id-2 div.sk-container {/* jupyter's `normalize.less` sets `[hidden] { display: none; }` but bootstrap.min.css set `[hidden] { display: none !important; }` so we also need the `!important` here to be able to override the default hidden behavior on the sphinx rendered scikit-learn.org. See: https://github.com/scikit-learn/scikit-learn/issues/21755 */display: inline-block !important;position: relative;}#sk-container-id-2 div.sk-text-repr-fallback {display: none;}</style><div id=\"sk-container-id-2\" class=\"sk-top-container\"><div class=\"sk-text-repr-fallback\"><pre>MultinomialNB()</pre><b>In a Jupyter environment, please rerun this cell to show the HTML representation or trust the notebook. <br />On GitHub, the HTML representation is unable to render, please try loading this page with nbviewer.org.</b></div><div class=\"sk-container\" hidden><div class=\"sk-item\"><div class=\"sk-estimator sk-toggleable\"><input class=\"sk-toggleable__control sk-hidden--visually\" id=\"sk-estimator-id-2\" type=\"checkbox\" checked><label for=\"sk-estimator-id-2\" class=\"sk-toggleable__label sk-toggleable__label-arrow\">MultinomialNB</label><div class=\"sk-toggleable__content\"><pre>MultinomialNB()</pre></div></div></div></div></div>"
            ]
          },
          "metadata": {},
          "execution_count": 14
        }
      ]
    },
    {
      "cell_type": "code",
      "source": [
        "# make predictions on the test data\n",
        "pred = naive_bayes.predict(X_test)\n",
        "\n",
        "# print confusion matrix\n",
        "print(confusion_matrix(y_test, pred))"
      ],
      "metadata": {
        "colab": {
          "base_uri": "https://localhost:8080/",
          "height": 0
        },
        "id": "372UxwhxemD6",
        "outputId": "c5a3f4f6-a3b5-4d42-f306-ca7cae3eb584"
      },
      "execution_count": 15,
      "outputs": [
        {
          "output_type": "stream",
          "name": "stdout",
          "text": [
            "[[ 870  608]\n",
            " [ 103 1918]]\n"
          ]
        }
      ]
    },
    {
      "cell_type": "markdown",
      "source": [
        "## Confusion matrix has this form\n",
        "##     TruePositive   FalsePositive\n",
        "##     FalseNegative   TrueNegative"
      ],
      "metadata": {
        "id": "JVugTKMJfKG_"
      }
    },
    {
      "cell_type": "code",
      "source": [
        "print('accuracy score: ', accuracy_score(y_test, pred))"
      ],
      "metadata": {
        "colab": {
          "base_uri": "https://localhost:8080/",
          "height": 0
        },
        "id": "IzzbzBOZf4vM",
        "outputId": "87e1ef12-2fba-4278-bd0a-e9309af76b24"
      },
      "execution_count": 16,
      "outputs": [
        {
          "output_type": "stream",
          "name": "stdout",
          "text": [
            "accuracy score:  0.7967990854529866\n"
          ]
        }
      ]
    },
    {
      "cell_type": "markdown",
      "source": [
        "Accuracy of 79.7% which is pretty good, but lets examine our negative cases a bit more."
      ],
      "metadata": {
        "id": "8WsFq5BPf8Sp"
      }
    },
    {
      "cell_type": "code",
      "source": [
        "from sklearn.metrics import classification_report\n",
        "print(classification_report(y_test, pred))"
      ],
      "metadata": {
        "colab": {
          "base_uri": "https://localhost:8080/",
          "height": 0
        },
        "id": "Zgsq-39wgiHN",
        "outputId": "a05fd70c-803c-4e6b-fd4c-ffa56a51ec29"
      },
      "execution_count": 17,
      "outputs": [
        {
          "output_type": "stream",
          "name": "stdout",
          "text": [
            "              precision    recall  f1-score   support\n",
            "\n",
            "           0       0.89      0.59      0.71      1478\n",
            "           1       0.76      0.95      0.84      2021\n",
            "\n",
            "    accuracy                           0.80      3499\n",
            "   macro avg       0.83      0.77      0.78      3499\n",
            "weighted avg       0.82      0.80      0.79      3499\n",
            "\n"
          ]
        }
      ]
    },
    {
      "cell_type": "code",
      "source": [
        "print('negative review size in test data:',y_test[y_test==1].shape[0])\n",
        "print('test size: ', len(y_test))\n",
        "baseline = y_test[y_test==1].shape[0] / y_test.shape[0]\n",
        "print(baseline)"
      ],
      "metadata": {
        "colab": {
          "base_uri": "https://localhost:8080/",
          "height": 0
        },
        "id": "n8Xtl8xajRCm",
        "outputId": "fc8ef3f9-8b9b-46f1-ceb7-68ed8d03c12c"
      },
      "execution_count": 18,
      "outputs": [
        {
          "output_type": "stream",
          "name": "stdout",
          "text": [
            "negative review size in test data: 2021\n",
            "test size:  3499\n",
            "0.5775935981709059\n"
          ]
        }
      ]
    },
    {
      "cell_type": "markdown",
      "source": [
        "## The positive review are 57% of the test data, which indicates that the NaiveBayes method did learn.\n",
        "\n",
        "## Let's examine some falsely classified data."
      ],
      "metadata": {
        "id": "49SudflDjkpi"
      }
    },
    {
      "cell_type": "code",
      "source": [
        "y_test[y_test != pred]"
      ],
      "metadata": {
        "colab": {
          "base_uri": "https://localhost:8080/",
          "height": 0
        },
        "id": "pFJOqDT0jxiT",
        "outputId": "b72057be-277c-4668-9f13-cf64fe448ac2"
      },
      "execution_count": 19,
      "outputs": [
        {
          "output_type": "execute_result",
          "data": {
            "text/plain": [
              "1458     1\n",
              "10913    0\n",
              "3041     0\n",
              "9005     0\n",
              "15471    0\n",
              "        ..\n",
              "15694    0\n",
              "8426     0\n",
              "7466     0\n",
              "8501     0\n",
              "3750     1\n",
              "Name: user_suggestion, Length: 711, dtype: int64"
            ]
          },
          "metadata": {},
          "execution_count": 19
        }
      ]
    },
    {
      "cell_type": "code",
      "source": [
        "for i in [1458, 10913, 3041, 9005, 15471, 15694, 8426]:\n",
        "  print(df.loc[i, 'user_review'])\n",
        "  print()"
      ],
      "metadata": {
        "colab": {
          "base_uri": "https://localhost:8080/",
          "height": 0
        },
        "id": "CaUWyCYwkLP3",
        "outputId": "9818101a-f797-43f6-8780-6c1006a72bf0"
      },
      "execution_count": 20,
      "outputs": [
        {
          "output_type": "stream",
          "name": "stdout",
          "text": [
            "Early Access ReviewMostly its a good game however in my last 2 games ive had a rather annoying bug where my cannons refuse to fire at all until i die, other then that a very interesting game.Edit: Sometimes mt abilities dont work now and i cannot connect to a game anymore, wtf?2nd edit: And i believe the game has a hacker problem as well from what ive witnessed and heard.Edit 3: Fix the damn game now, ITS KEEPS F****** CRASHING\n",
            "\n",
            "Early Access ReviewDevelopers pushing stuff that could've been designed by their little cousin, because they can sell a mini campaign with a buy-in super pushed creature removable mostly by its own colors. Makes the ladder, which is bo1, a mind numbingly boring experience, since almost everyone and their dog wanting to climb plays that card either because it's good, or because the same colors are needed to remove it.Can't wait till someone wants to make money by making a good card game, rather than make money with dubious \"buy this powercreep here guise\" type deals. Shame because there's obviously talent here, but design decisions tell me all I need to know. What matters isn't where you are, it's which direction you're going. And this isn't going in any good direction.Got banned and lost all account access after posting this review: lol. The upside is it got me in the mood to try Faeria which turned out to be a straight up a better card game.\n",
            "\n",
            "What's not to love in this game? Modelisation is good, physics and damage are really close to reality, graphics are good, plus the game itself is free to play.Unfortunately, hit detection is completely random. I can play 30 minutes destroying everything in my path with short burst, and then suddenly play for 3 days during which only 5% of my hits are recorded.\n",
            "\n",
            "Hello, I have played planetside 2 for appx 4 years since it was in Beta (2902 Hours played).  About two year ago I would have recommended this game, however due to multiple patches since then I do not.  There is no reason to become good at Planetside 2.  Wasting your time learning and perfecting the skills necessary to being a successful player is met with nothing but blanket nerfs and changes to any playstyle that, with time and effort, are better than others.  This game is the antithesis to a competitive game and for the last 5 years the company that produces it has done nothing but remove fun and competitive gameplay.  There was a time when I would have rated this game an 8/10 must have, but that time is long gone and we are left with the remains of an old rotten bannana.  I hope you do not decide to waste your time with this pile of garbage since it will end up being a waste of both time and money a thing that is precious in our day and age.  If you do not decide to play this game due to my review I would appreciate that you rate my review accordingly since I do not know any other way to show my displeasure with the current state of the game.  I appreciate your time reading and wish you luck in finding a fun and exciting multiplayer experience elsewhere.Daniel WebsterFormer Liberator Pilot, Gunner and LIBZ Outfit Leader (emerald server),Playstyle of 5 years removed as of Critical Mass updateLiberator Gameplay Enthusiast Sept 2012  - 2017\n",
            "\n",
            "Not like any other clicking game, this game have different kind of \"Crusader\" in each event where you can get by completing its objective, so each time you restart you always have different kind of \"Crusader\" to play. It has even some buff or item for each of this \"Crusader\", so you don't have to restart at 0 but start at 5% of the journey, etc. Overall, it is a great game, but I like to state some of my disappointment. Firstly it is  REALLY HARD for a new player, why ? You start off with no buff, no item, no special crusader, etc. And if you wanna get some of those things (Buff,Item,etc) you need to spend a lot of money to get those things in the treasure. Secondly, it take a lot of time for new player to get the things they desire, unless they want to spend a lot of moneyOriginally posted by author: Please Respect My Opinion, TY \n",
            "\n",
            "Early Access ReviewWhat kind of developer sells the most basic healing potion for Premium Cash? You've captured the feeling of the old AQWorlds, with all it's jank and all it's flaws \n",
            "\n",
            "Played on arc downloader not steam downloader steam downloader was giving me problems of not downloading all the files.Updates---------------------------------------------------------------------------------------------------------------------------------------(this has not been updated to the new module 4 nerf the game is a lot more even now but i'm to lazy to completely edit review.)(module 5 fixed a lot of awesome stuff, games good but it get repetitive and really no good end game goal, still fun game tho still to lazy just try the game i guess if u want)--------------------------------------------------------------------------------------------------------------------------------------I know it says do not recommend BUT this game has an incredible story line its really good its a decent game EXCEPT the game is all about which class you pick it's not how long you spend playing the game it's not exactly pay to win but paying can give you a big big boost giving you a big advantage against other players definetly BIG advantage. The game is not really that great for me i mean i choose the class  ----- Trickster Rogue -----  worst class ever i don't even know why there is a class like this i wanted to role play or feel like a rogue/assassin/ninja squish but massive damage that piles damage quick and is a fast class i was completely WAY WAY WAY WAY off the class is more of the squish looks like a ninja/assassin/rogue that does above average damage with 2 second stealth and is a very slow moving character the TANK class actually moves faster then the rogue class runs faster moves faster damages faster piles faster and isn't squishy the RANGER  class moves faster piles damage faster has aeo effs DOESN'T hit higher but is way way faster when attacking which is stupid because a rogue is suppose to again pile damage fast and hit fast and hit hard which he/she does not.So summary: The game has a good story line, Terrible just aweful can't emphasize this enough design of how the classes are so broken they make no sense TANKS are fast with high def and fast attack, RANGERS fast attack fast movement high def, MAGERS average movement average attack speed  HIGH damage output high def, ROGUE class low def average movement speed a little bit above attack speed a little bit above average damage ouput. This game is designed poorly on classes but incredibly on story. You can't immerse yourself into it it's just not that good\n",
            "\n"
          ]
        }
      ]
    },
    {
      "cell_type": "markdown",
      "source": [
        "## Second Try: using re.sub to get rid/change some text"
      ],
      "metadata": {
        "id": "Zf33PvnSlL4S"
      }
    },
    {
      "cell_type": "code",
      "source": [
        "df['user_review'].replace(r'^Early Access Review', '', regex=True, inplace=True)"
      ],
      "metadata": {
        "id": "E_andRDylSIK"
      },
      "execution_count": 21,
      "outputs": []
    },
    {
      "cell_type": "code",
      "source": [
        "for i in [1458, 10913, 3041, 9005, 15471, 15694, 8426]:\n",
        "  print(df.loc[i, 'user_review'])\n",
        "  print()"
      ],
      "metadata": {
        "colab": {
          "base_uri": "https://localhost:8080/",
          "height": 0
        },
        "id": "QBUAFznkl1l9",
        "outputId": "66997e45-0a00-47fa-ec65-aa060bde4c38"
      },
      "execution_count": 22,
      "outputs": [
        {
          "output_type": "stream",
          "name": "stdout",
          "text": [
            "Mostly its a good game however in my last 2 games ive had a rather annoying bug where my cannons refuse to fire at all until i die, other then that a very interesting game.Edit: Sometimes mt abilities dont work now and i cannot connect to a game anymore, wtf?2nd edit: And i believe the game has a hacker problem as well from what ive witnessed and heard.Edit 3: Fix the damn game now, ITS KEEPS F****** CRASHING\n",
            "\n",
            "Developers pushing stuff that could've been designed by their little cousin, because they can sell a mini campaign with a buy-in super pushed creature removable mostly by its own colors. Makes the ladder, which is bo1, a mind numbingly boring experience, since almost everyone and their dog wanting to climb plays that card either because it's good, or because the same colors are needed to remove it.Can't wait till someone wants to make money by making a good card game, rather than make money with dubious \"buy this powercreep here guise\" type deals. Shame because there's obviously talent here, but design decisions tell me all I need to know. What matters isn't where you are, it's which direction you're going. And this isn't going in any good direction.Got banned and lost all account access after posting this review: lol. The upside is it got me in the mood to try Faeria which turned out to be a straight up a better card game.\n",
            "\n",
            "What's not to love in this game? Modelisation is good, physics and damage are really close to reality, graphics are good, plus the game itself is free to play.Unfortunately, hit detection is completely random. I can play 30 minutes destroying everything in my path with short burst, and then suddenly play for 3 days during which only 5% of my hits are recorded.\n",
            "\n",
            "Hello, I have played planetside 2 for appx 4 years since it was in Beta (2902 Hours played).  About two year ago I would have recommended this game, however due to multiple patches since then I do not.  There is no reason to become good at Planetside 2.  Wasting your time learning and perfecting the skills necessary to being a successful player is met with nothing but blanket nerfs and changes to any playstyle that, with time and effort, are better than others.  This game is the antithesis to a competitive game and for the last 5 years the company that produces it has done nothing but remove fun and competitive gameplay.  There was a time when I would have rated this game an 8/10 must have, but that time is long gone and we are left with the remains of an old rotten bannana.  I hope you do not decide to waste your time with this pile of garbage since it will end up being a waste of both time and money a thing that is precious in our day and age.  If you do not decide to play this game due to my review I would appreciate that you rate my review accordingly since I do not know any other way to show my displeasure with the current state of the game.  I appreciate your time reading and wish you luck in finding a fun and exciting multiplayer experience elsewhere.Daniel WebsterFormer Liberator Pilot, Gunner and LIBZ Outfit Leader (emerald server),Playstyle of 5 years removed as of Critical Mass updateLiberator Gameplay Enthusiast Sept 2012  - 2017\n",
            "\n",
            "Not like any other clicking game, this game have different kind of \"Crusader\" in each event where you can get by completing its objective, so each time you restart you always have different kind of \"Crusader\" to play. It has even some buff or item for each of this \"Crusader\", so you don't have to restart at 0 but start at 5% of the journey, etc. Overall, it is a great game, but I like to state some of my disappointment. Firstly it is  REALLY HARD for a new player, why ? You start off with no buff, no item, no special crusader, etc. And if you wanna get some of those things (Buff,Item,etc) you need to spend a lot of money to get those things in the treasure. Secondly, it take a lot of time for new player to get the things they desire, unless they want to spend a lot of moneyOriginally posted by author: Please Respect My Opinion, TY \n",
            "\n",
            "What kind of developer sells the most basic healing potion for Premium Cash? You've captured the feeling of the old AQWorlds, with all it's jank and all it's flaws \n",
            "\n",
            "Played on arc downloader not steam downloader steam downloader was giving me problems of not downloading all the files.Updates---------------------------------------------------------------------------------------------------------------------------------------(this has not been updated to the new module 4 nerf the game is a lot more even now but i'm to lazy to completely edit review.)(module 5 fixed a lot of awesome stuff, games good but it get repetitive and really no good end game goal, still fun game tho still to lazy just try the game i guess if u want)--------------------------------------------------------------------------------------------------------------------------------------I know it says do not recommend BUT this game has an incredible story line its really good its a decent game EXCEPT the game is all about which class you pick it's not how long you spend playing the game it's not exactly pay to win but paying can give you a big big boost giving you a big advantage against other players definetly BIG advantage. The game is not really that great for me i mean i choose the class  ----- Trickster Rogue -----  worst class ever i don't even know why there is a class like this i wanted to role play or feel like a rogue/assassin/ninja squish but massive damage that piles damage quick and is a fast class i was completely WAY WAY WAY WAY off the class is more of the squish looks like a ninja/assassin/rogue that does above average damage with 2 second stealth and is a very slow moving character the TANK class actually moves faster then the rogue class runs faster moves faster damages faster piles faster and isn't squishy the RANGER  class moves faster piles damage faster has aeo effs DOESN'T hit higher but is way way faster when attacking which is stupid because a rogue is suppose to again pile damage fast and hit fast and hit hard which he/she does not.So summary: The game has a good story line, Terrible just aweful can't emphasize this enough design of how the classes are so broken they make no sense TANKS are fast with high def and fast attack, RANGERS fast attack fast movement high def, MAGERS average movement average attack speed  HIGH damage output high def, ROGUE class low def average movement speed a little bit above attack speed a little bit above average damage ouput. This game is designed poorly on classes but incredibly on story. You can't immerse yourself into it it's just not that good\n",
            "\n"
          ]
        }
      ]
    },
    {
      "cell_type": "code",
      "source": [
        "X_train, X_test, y_train, y_test = train_test_split(X, y, test_size=0.2, random_state=49)\n",
        "# apply tfidf vectorizer\n",
        "X_train = vectorizer.fit_transform(X_train)  # fit and transform the train data\n",
        "X_test = vectorizer.transform(X_test)        # transform only the test data\n",
        "\n",
        "naive_bayes = MultinomialNB()\n",
        "naive_bayes.fit(X_train, y_train)"
      ],
      "metadata": {
        "colab": {
          "base_uri": "https://localhost:8080/",
          "height": 75
        },
        "id": "Q_hluU2VmLTM",
        "outputId": "10762de2-e570-4839-c694-e879261240f1"
      },
      "execution_count": 23,
      "outputs": [
        {
          "output_type": "execute_result",
          "data": {
            "text/plain": [
              "MultinomialNB()"
            ],
            "text/html": [
              "<style>#sk-container-id-3 {color: black;background-color: white;}#sk-container-id-3 pre{padding: 0;}#sk-container-id-3 div.sk-toggleable {background-color: white;}#sk-container-id-3 label.sk-toggleable__label {cursor: pointer;display: block;width: 100%;margin-bottom: 0;padding: 0.3em;box-sizing: border-box;text-align: center;}#sk-container-id-3 label.sk-toggleable__label-arrow:before {content: \"▸\";float: left;margin-right: 0.25em;color: #696969;}#sk-container-id-3 label.sk-toggleable__label-arrow:hover:before {color: black;}#sk-container-id-3 div.sk-estimator:hover label.sk-toggleable__label-arrow:before {color: black;}#sk-container-id-3 div.sk-toggleable__content {max-height: 0;max-width: 0;overflow: hidden;text-align: left;background-color: #f0f8ff;}#sk-container-id-3 div.sk-toggleable__content pre {margin: 0.2em;color: black;border-radius: 0.25em;background-color: #f0f8ff;}#sk-container-id-3 input.sk-toggleable__control:checked~div.sk-toggleable__content {max-height: 200px;max-width: 100%;overflow: auto;}#sk-container-id-3 input.sk-toggleable__control:checked~label.sk-toggleable__label-arrow:before {content: \"▾\";}#sk-container-id-3 div.sk-estimator input.sk-toggleable__control:checked~label.sk-toggleable__label {background-color: #d4ebff;}#sk-container-id-3 div.sk-label input.sk-toggleable__control:checked~label.sk-toggleable__label {background-color: #d4ebff;}#sk-container-id-3 input.sk-hidden--visually {border: 0;clip: rect(1px 1px 1px 1px);clip: rect(1px, 1px, 1px, 1px);height: 1px;margin: -1px;overflow: hidden;padding: 0;position: absolute;width: 1px;}#sk-container-id-3 div.sk-estimator {font-family: monospace;background-color: #f0f8ff;border: 1px dotted black;border-radius: 0.25em;box-sizing: border-box;margin-bottom: 0.5em;}#sk-container-id-3 div.sk-estimator:hover {background-color: #d4ebff;}#sk-container-id-3 div.sk-parallel-item::after {content: \"\";width: 100%;border-bottom: 1px solid gray;flex-grow: 1;}#sk-container-id-3 div.sk-label:hover label.sk-toggleable__label {background-color: #d4ebff;}#sk-container-id-3 div.sk-serial::before {content: \"\";position: absolute;border-left: 1px solid gray;box-sizing: border-box;top: 0;bottom: 0;left: 50%;z-index: 0;}#sk-container-id-3 div.sk-serial {display: flex;flex-direction: column;align-items: center;background-color: white;padding-right: 0.2em;padding-left: 0.2em;position: relative;}#sk-container-id-3 div.sk-item {position: relative;z-index: 1;}#sk-container-id-3 div.sk-parallel {display: flex;align-items: stretch;justify-content: center;background-color: white;position: relative;}#sk-container-id-3 div.sk-item::before, #sk-container-id-3 div.sk-parallel-item::before {content: \"\";position: absolute;border-left: 1px solid gray;box-sizing: border-box;top: 0;bottom: 0;left: 50%;z-index: -1;}#sk-container-id-3 div.sk-parallel-item {display: flex;flex-direction: column;z-index: 1;position: relative;background-color: white;}#sk-container-id-3 div.sk-parallel-item:first-child::after {align-self: flex-end;width: 50%;}#sk-container-id-3 div.sk-parallel-item:last-child::after {align-self: flex-start;width: 50%;}#sk-container-id-3 div.sk-parallel-item:only-child::after {width: 0;}#sk-container-id-3 div.sk-dashed-wrapped {border: 1px dashed gray;margin: 0 0.4em 0.5em 0.4em;box-sizing: border-box;padding-bottom: 0.4em;background-color: white;}#sk-container-id-3 div.sk-label label {font-family: monospace;font-weight: bold;display: inline-block;line-height: 1.2em;}#sk-container-id-3 div.sk-label-container {text-align: center;}#sk-container-id-3 div.sk-container {/* jupyter's `normalize.less` sets `[hidden] { display: none; }` but bootstrap.min.css set `[hidden] { display: none !important; }` so we also need the `!important` here to be able to override the default hidden behavior on the sphinx rendered scikit-learn.org. See: https://github.com/scikit-learn/scikit-learn/issues/21755 */display: inline-block !important;position: relative;}#sk-container-id-3 div.sk-text-repr-fallback {display: none;}</style><div id=\"sk-container-id-3\" class=\"sk-top-container\"><div class=\"sk-text-repr-fallback\"><pre>MultinomialNB()</pre><b>In a Jupyter environment, please rerun this cell to show the HTML representation or trust the notebook. <br />On GitHub, the HTML representation is unable to render, please try loading this page with nbviewer.org.</b></div><div class=\"sk-container\" hidden><div class=\"sk-item\"><div class=\"sk-estimator sk-toggleable\"><input class=\"sk-toggleable__control sk-hidden--visually\" id=\"sk-estimator-id-3\" type=\"checkbox\" checked><label for=\"sk-estimator-id-3\" class=\"sk-toggleable__label sk-toggleable__label-arrow\">MultinomialNB</label><div class=\"sk-toggleable__content\"><pre>MultinomialNB()</pre></div></div></div></div></div>"
            ]
          },
          "metadata": {},
          "execution_count": 23
        }
      ]
    },
    {
      "cell_type": "code",
      "source": [
        "# make predictions on the test data\n",
        "pred = naive_bayes.predict(X_test)\n",
        "\n",
        "# print confusion matrix\n",
        "print(confusion_matrix(y_test, pred))"
      ],
      "metadata": {
        "colab": {
          "base_uri": "https://localhost:8080/",
          "height": 0
        },
        "id": "8VUK1CE6mo5U",
        "outputId": "8092fc4a-02b3-47c0-a4fd-d6029ddab38d"
      },
      "execution_count": 24,
      "outputs": [
        {
          "output_type": "stream",
          "name": "stdout",
          "text": [
            "[[ 879  599]\n",
            " [ 108 1913]]\n"
          ]
        }
      ]
    },
    {
      "cell_type": "markdown",
      "source": [
        "This didn't change anything, lets do some more substitution."
      ],
      "metadata": {
        "id": "X9uC52ymm27X"
      }
    },
    {
      "cell_type": "code",
      "source": [
        "df['user_review'].replace('[\\d][\\d]+', ' num ', regex=True, inplace=True)\n",
        "df['user_review'].replace('[!@#*][!@#*]+', ' punct ', regex=True, inplace=True)\n",
        "df['user_review'].replace('[A-Z][A-Z]+', ' caps ', regex=True, inplace=True)\n",
        "\n",
        "for i in [1458, 10913, 3041, 9005, 15471, 15694, 8426]:\n",
        "  print(df.loc[i, 'user_review'])\n",
        "  print()"
      ],
      "metadata": {
        "colab": {
          "base_uri": "https://localhost:8080/",
          "height": 0
        },
        "id": "rasZgPtBm-UB",
        "outputId": "c587152a-59bf-4bdd-e85e-cb9dbef32ce9"
      },
      "execution_count": 25,
      "outputs": [
        {
          "output_type": "stream",
          "name": "stdout",
          "text": [
            "Mostly its a good game however in my last 2 games ive had a rather annoying bug where my cannons refuse to fire at all until i die, other then that a very interesting game.Edit: Sometimes mt abilities dont work now and i cannot connect to a game anymore, wtf?2nd edit: And i believe the game has a hacker problem as well from what ive witnessed and heard.Edit 3: Fix the damn game now,  caps   caps  F punct   caps \n",
            "\n",
            "Developers pushing stuff that could've been designed by their little cousin, because they can sell a mini campaign with a buy-in super pushed creature removable mostly by its own colors. Makes the ladder, which is bo1, a mind numbingly boring experience, since almost everyone and their dog wanting to climb plays that card either because it's good, or because the same colors are needed to remove it.Can't wait till someone wants to make money by making a good card game, rather than make money with dubious \"buy this powercreep here guise\" type deals. Shame because there's obviously talent here, but design decisions tell me all I need to know. What matters isn't where you are, it's which direction you're going. And this isn't going in any good direction.Got banned and lost all account access after posting this review: lol. The upside is it got me in the mood to try Faeria which turned out to be a straight up a better card game.\n",
            "\n",
            "What's not to love in this game? Modelisation is good, physics and damage are really close to reality, graphics are good, plus the game itself is free to play.Unfortunately, hit detection is completely random. I can play  num  minutes destroying everything in my path with short burst, and then suddenly play for 3 days during which only 5% of my hits are recorded.\n",
            "\n",
            "Hello, I have played planetside 2 for appx 4 years since it was in Beta ( num  Hours played).  About two year ago I would have recommended this game, however due to multiple patches since then I do not.  There is no reason to become good at Planetside 2.  Wasting your time learning and perfecting the skills necessary to being a successful player is met with nothing but blanket nerfs and changes to any playstyle that, with time and effort, are better than others.  This game is the antithesis to a competitive game and for the last 5 years the company that produces it has done nothing but remove fun and competitive gameplay.  There was a time when I would have rated this game an 8/ num  must have, but that time is long gone and we are left with the remains of an old rotten bannana.  I hope you do not decide to waste your time with this pile of garbage since it will end up being a waste of both time and money a thing that is precious in our day and age.  If you do not decide to play this game due to my review I would appreciate that you rate my review accordingly since I do not know any other way to show my displeasure with the current state of the game.  I appreciate your time reading and wish you luck in finding a fun and exciting multiplayer experience elsewhere.Daniel WebsterFormer Liberator Pilot, Gunner and  caps  Outfit Leader (emerald server),Playstyle of 5 years removed as of Critical Mass updateLiberator Gameplay Enthusiast Sept  num   -  num \n",
            "\n",
            "Not like any other clicking game, this game have different kind of \"Crusader\" in each event where you can get by completing its objective, so each time you restart you always have different kind of \"Crusader\" to play. It has even some buff or item for each of this \"Crusader\", so you don't have to restart at 0 but start at 5% of the journey, etc. Overall, it is a great game, but I like to state some of my disappointment. Firstly it is   caps   caps  for a new player, why ? You start off with no buff, no item, no special crusader, etc. And if you wanna get some of those things (Buff,Item,etc) you need to spend a lot of money to get those things in the treasure. Secondly, it take a lot of time for new player to get the things they desire, unless they want to spend a lot of moneyOriginally posted by author: Please Respect My Opinion,  caps  \n",
            "\n",
            "What kind of developer sells the most basic healing potion for Premium Cash? You've captured the feeling of the old  caps orlds, with all it's jank and all it's flaws \n",
            "\n",
            "Played on arc downloader not steam downloader steam downloader was giving me problems of not downloading all the files.Updates---------------------------------------------------------------------------------------------------------------------------------------(this has not been updated to the new module 4 nerf the game is a lot more even now but i'm to lazy to completely edit review.)(module 5 fixed a lot of awesome stuff, games good but it get repetitive and really no good end game goal, still fun game tho still to lazy just try the game i guess if u want)--------------------------------------------------------------------------------------------------------------------------------------I know it says do not recommend  caps  this game has an incredible story line its really good its a decent game  caps  the game is all about which class you pick it's not how long you spend playing the game it's not exactly pay to win but paying can give you a big big boost giving you a big advantage against other players definetly  caps  advantage. The game is not really that great for me i mean i choose the class  ----- Trickster Rogue -----  worst class ever i don't even know why there is a class like this i wanted to role play or feel like a rogue/assassin/ninja squish but massive damage that piles damage quick and is a fast class i was completely  caps   caps   caps   caps  off the class is more of the squish looks like a ninja/assassin/rogue that does above average damage with 2 second stealth and is a very slow moving character the  caps  class actually moves faster then the rogue class runs faster moves faster damages faster piles faster and isn't squishy the  caps   class moves faster piles damage faster has aeo effs  caps 'T hit higher but is way way faster when attacking which is stupid because a rogue is suppose to again pile damage fast and hit fast and hit hard which he/she does not.So summary: The game has a good story line, Terrible just aweful can't emphasize this enough design of how the classes are so broken they make no sense  caps  are fast with high def and fast attack,  caps  fast attack fast movement high def,  caps  average movement average attack speed   caps  damage output high def,  caps  class low def average movement speed a little bit above attack speed a little bit above average damage ouput. This game is designed poorly on classes but incredibly on story. You can't immerse yourself into it it's just not that good\n",
            "\n"
          ]
        }
      ]
    },
    {
      "cell_type": "code",
      "source": [
        "X_train, X_test, y_train, y_test = train_test_split(X, y, test_size=0.2, random_state=49)\n",
        "# apply tfidf vectorizer\n",
        "X_train = vectorizer.fit_transform(X_train)  # fit and transform the train data\n",
        "X_test = vectorizer.transform(X_test)        # transform only the test data\n",
        "\n",
        "naive_bayes = MultinomialNB()\n",
        "naive_bayes.fit(X_train, y_train)"
      ],
      "metadata": {
        "colab": {
          "base_uri": "https://localhost:8080/",
          "height": 75
        },
        "id": "rlsu3a5pn1rw",
        "outputId": "7c4f283f-2946-4d0c-b7d4-5265fb5e908f"
      },
      "execution_count": 26,
      "outputs": [
        {
          "output_type": "execute_result",
          "data": {
            "text/plain": [
              "MultinomialNB()"
            ],
            "text/html": [
              "<style>#sk-container-id-4 {color: black;background-color: white;}#sk-container-id-4 pre{padding: 0;}#sk-container-id-4 div.sk-toggleable {background-color: white;}#sk-container-id-4 label.sk-toggleable__label {cursor: pointer;display: block;width: 100%;margin-bottom: 0;padding: 0.3em;box-sizing: border-box;text-align: center;}#sk-container-id-4 label.sk-toggleable__label-arrow:before {content: \"▸\";float: left;margin-right: 0.25em;color: #696969;}#sk-container-id-4 label.sk-toggleable__label-arrow:hover:before {color: black;}#sk-container-id-4 div.sk-estimator:hover label.sk-toggleable__label-arrow:before {color: black;}#sk-container-id-4 div.sk-toggleable__content {max-height: 0;max-width: 0;overflow: hidden;text-align: left;background-color: #f0f8ff;}#sk-container-id-4 div.sk-toggleable__content pre {margin: 0.2em;color: black;border-radius: 0.25em;background-color: #f0f8ff;}#sk-container-id-4 input.sk-toggleable__control:checked~div.sk-toggleable__content {max-height: 200px;max-width: 100%;overflow: auto;}#sk-container-id-4 input.sk-toggleable__control:checked~label.sk-toggleable__label-arrow:before {content: \"▾\";}#sk-container-id-4 div.sk-estimator input.sk-toggleable__control:checked~label.sk-toggleable__label {background-color: #d4ebff;}#sk-container-id-4 div.sk-label input.sk-toggleable__control:checked~label.sk-toggleable__label {background-color: #d4ebff;}#sk-container-id-4 input.sk-hidden--visually {border: 0;clip: rect(1px 1px 1px 1px);clip: rect(1px, 1px, 1px, 1px);height: 1px;margin: -1px;overflow: hidden;padding: 0;position: absolute;width: 1px;}#sk-container-id-4 div.sk-estimator {font-family: monospace;background-color: #f0f8ff;border: 1px dotted black;border-radius: 0.25em;box-sizing: border-box;margin-bottom: 0.5em;}#sk-container-id-4 div.sk-estimator:hover {background-color: #d4ebff;}#sk-container-id-4 div.sk-parallel-item::after {content: \"\";width: 100%;border-bottom: 1px solid gray;flex-grow: 1;}#sk-container-id-4 div.sk-label:hover label.sk-toggleable__label {background-color: #d4ebff;}#sk-container-id-4 div.sk-serial::before {content: \"\";position: absolute;border-left: 1px solid gray;box-sizing: border-box;top: 0;bottom: 0;left: 50%;z-index: 0;}#sk-container-id-4 div.sk-serial {display: flex;flex-direction: column;align-items: center;background-color: white;padding-right: 0.2em;padding-left: 0.2em;position: relative;}#sk-container-id-4 div.sk-item {position: relative;z-index: 1;}#sk-container-id-4 div.sk-parallel {display: flex;align-items: stretch;justify-content: center;background-color: white;position: relative;}#sk-container-id-4 div.sk-item::before, #sk-container-id-4 div.sk-parallel-item::before {content: \"\";position: absolute;border-left: 1px solid gray;box-sizing: border-box;top: 0;bottom: 0;left: 50%;z-index: -1;}#sk-container-id-4 div.sk-parallel-item {display: flex;flex-direction: column;z-index: 1;position: relative;background-color: white;}#sk-container-id-4 div.sk-parallel-item:first-child::after {align-self: flex-end;width: 50%;}#sk-container-id-4 div.sk-parallel-item:last-child::after {align-self: flex-start;width: 50%;}#sk-container-id-4 div.sk-parallel-item:only-child::after {width: 0;}#sk-container-id-4 div.sk-dashed-wrapped {border: 1px dashed gray;margin: 0 0.4em 0.5em 0.4em;box-sizing: border-box;padding-bottom: 0.4em;background-color: white;}#sk-container-id-4 div.sk-label label {font-family: monospace;font-weight: bold;display: inline-block;line-height: 1.2em;}#sk-container-id-4 div.sk-label-container {text-align: center;}#sk-container-id-4 div.sk-container {/* jupyter's `normalize.less` sets `[hidden] { display: none; }` but bootstrap.min.css set `[hidden] { display: none !important; }` so we also need the `!important` here to be able to override the default hidden behavior on the sphinx rendered scikit-learn.org. See: https://github.com/scikit-learn/scikit-learn/issues/21755 */display: inline-block !important;position: relative;}#sk-container-id-4 div.sk-text-repr-fallback {display: none;}</style><div id=\"sk-container-id-4\" class=\"sk-top-container\"><div class=\"sk-text-repr-fallback\"><pre>MultinomialNB()</pre><b>In a Jupyter environment, please rerun this cell to show the HTML representation or trust the notebook. <br />On GitHub, the HTML representation is unable to render, please try loading this page with nbviewer.org.</b></div><div class=\"sk-container\" hidden><div class=\"sk-item\"><div class=\"sk-estimator sk-toggleable\"><input class=\"sk-toggleable__control sk-hidden--visually\" id=\"sk-estimator-id-4\" type=\"checkbox\" checked><label for=\"sk-estimator-id-4\" class=\"sk-toggleable__label sk-toggleable__label-arrow\">MultinomialNB</label><div class=\"sk-toggleable__content\"><pre>MultinomialNB()</pre></div></div></div></div></div>"
            ]
          },
          "metadata": {},
          "execution_count": 26
        }
      ]
    },
    {
      "cell_type": "code",
      "source": [
        "# make predictions on the test data\n",
        "pred = naive_bayes.predict(X_test)\n",
        "\n",
        "# print confusion matrix\n",
        "print(confusion_matrix(y_test, pred))"
      ],
      "metadata": {
        "colab": {
          "base_uri": "https://localhost:8080/",
          "height": 0
        },
        "id": "Xt5dzUgrn854",
        "outputId": "623c55b9-bd1f-45a8-a109-93ad95bc2c29"
      },
      "execution_count": 27,
      "outputs": [
        {
          "output_type": "stream",
          "name": "stdout",
          "text": [
            "[[ 858  620]\n",
            " [ 106 1915]]\n"
          ]
        }
      ]
    },
    {
      "cell_type": "markdown",
      "source": [
        "## Previous:\n",
        "## [[ 879  599]\n",
        "## [ 108 1913]]\n",
        "\n",
        "### Increase False Positive by 21 but increase false negative by 2. Overall slight decrease in accuracy. Lets scrap this idea and move on to a different approach."
      ],
      "metadata": {
        "id": "fB0OXglgoLYJ"
      }
    },
    {
      "cell_type": "code",
      "source": [
        "print('accuracy score: ', accuracy_score(y_test, pred))"
      ],
      "metadata": {
        "colab": {
          "base_uri": "https://localhost:8080/",
          "height": 0
        },
        "id": "WMveUruyovks",
        "outputId": "446155f8-6e28-40cb-f653-273313d6d956"
      },
      "execution_count": 28,
      "outputs": [
        {
          "output_type": "stream",
          "name": "stdout",
          "text": [
            "accuracy score:  0.7925121463275222\n"
          ]
        }
      ]
    },
    {
      "cell_type": "markdown",
      "source": [
        "## Third Try: Using Binomial"
      ],
      "metadata": {
        "id": "LOaEsr30qKI1"
      }
    },
    {
      "cell_type": "code",
      "source": [
        "# Reset the data from the second try\n",
        "df = pd.read_csv('train.csv', header=0, usecols=[3, 4], encoding='latin-1')\n"
      ],
      "metadata": {
        "id": "kEAftu4DqTg3"
      },
      "execution_count": 29,
      "outputs": []
    },
    {
      "cell_type": "code",
      "source": [
        "# binary=True gives binary data instead of counts\n",
        "vectorizer_b = TfidfVectorizer(stop_words='english', binary=True)\n",
        "\n",
        "# set up X and y\n",
        "X = vectorizer_b.fit_transform(df.user_review)\n",
        "y = df.user_suggestion\n",
        "\n",
        "from sklearn.model_selection import train_test_split\n",
        "X_train, X_test, y_train, y_test = train_test_split(X, y, test_size=0.2, train_size=0.8, random_state=49)"
      ],
      "metadata": {
        "id": "OYxf-CCcqcop"
      },
      "execution_count": 30,
      "outputs": []
    },
    {
      "cell_type": "code",
      "source": [
        "from sklearn.naive_bayes import BernoulliNB\n",
        "\n",
        "naive_bayes2 = BernoulliNB()\n",
        "naive_bayes2.fit(X_train, y_train)"
      ],
      "metadata": {
        "colab": {
          "base_uri": "https://localhost:8080/",
          "height": 75
        },
        "id": "00V2lWNurCCk",
        "outputId": "c3ea241f-ebdf-4113-d126-1f99c63db5e5"
      },
      "execution_count": 31,
      "outputs": [
        {
          "output_type": "execute_result",
          "data": {
            "text/plain": [
              "BernoulliNB()"
            ],
            "text/html": [
              "<style>#sk-container-id-5 {color: black;background-color: white;}#sk-container-id-5 pre{padding: 0;}#sk-container-id-5 div.sk-toggleable {background-color: white;}#sk-container-id-5 label.sk-toggleable__label {cursor: pointer;display: block;width: 100%;margin-bottom: 0;padding: 0.3em;box-sizing: border-box;text-align: center;}#sk-container-id-5 label.sk-toggleable__label-arrow:before {content: \"▸\";float: left;margin-right: 0.25em;color: #696969;}#sk-container-id-5 label.sk-toggleable__label-arrow:hover:before {color: black;}#sk-container-id-5 div.sk-estimator:hover label.sk-toggleable__label-arrow:before {color: black;}#sk-container-id-5 div.sk-toggleable__content {max-height: 0;max-width: 0;overflow: hidden;text-align: left;background-color: #f0f8ff;}#sk-container-id-5 div.sk-toggleable__content pre {margin: 0.2em;color: black;border-radius: 0.25em;background-color: #f0f8ff;}#sk-container-id-5 input.sk-toggleable__control:checked~div.sk-toggleable__content {max-height: 200px;max-width: 100%;overflow: auto;}#sk-container-id-5 input.sk-toggleable__control:checked~label.sk-toggleable__label-arrow:before {content: \"▾\";}#sk-container-id-5 div.sk-estimator input.sk-toggleable__control:checked~label.sk-toggleable__label {background-color: #d4ebff;}#sk-container-id-5 div.sk-label input.sk-toggleable__control:checked~label.sk-toggleable__label {background-color: #d4ebff;}#sk-container-id-5 input.sk-hidden--visually {border: 0;clip: rect(1px 1px 1px 1px);clip: rect(1px, 1px, 1px, 1px);height: 1px;margin: -1px;overflow: hidden;padding: 0;position: absolute;width: 1px;}#sk-container-id-5 div.sk-estimator {font-family: monospace;background-color: #f0f8ff;border: 1px dotted black;border-radius: 0.25em;box-sizing: border-box;margin-bottom: 0.5em;}#sk-container-id-5 div.sk-estimator:hover {background-color: #d4ebff;}#sk-container-id-5 div.sk-parallel-item::after {content: \"\";width: 100%;border-bottom: 1px solid gray;flex-grow: 1;}#sk-container-id-5 div.sk-label:hover label.sk-toggleable__label {background-color: #d4ebff;}#sk-container-id-5 div.sk-serial::before {content: \"\";position: absolute;border-left: 1px solid gray;box-sizing: border-box;top: 0;bottom: 0;left: 50%;z-index: 0;}#sk-container-id-5 div.sk-serial {display: flex;flex-direction: column;align-items: center;background-color: white;padding-right: 0.2em;padding-left: 0.2em;position: relative;}#sk-container-id-5 div.sk-item {position: relative;z-index: 1;}#sk-container-id-5 div.sk-parallel {display: flex;align-items: stretch;justify-content: center;background-color: white;position: relative;}#sk-container-id-5 div.sk-item::before, #sk-container-id-5 div.sk-parallel-item::before {content: \"\";position: absolute;border-left: 1px solid gray;box-sizing: border-box;top: 0;bottom: 0;left: 50%;z-index: -1;}#sk-container-id-5 div.sk-parallel-item {display: flex;flex-direction: column;z-index: 1;position: relative;background-color: white;}#sk-container-id-5 div.sk-parallel-item:first-child::after {align-self: flex-end;width: 50%;}#sk-container-id-5 div.sk-parallel-item:last-child::after {align-self: flex-start;width: 50%;}#sk-container-id-5 div.sk-parallel-item:only-child::after {width: 0;}#sk-container-id-5 div.sk-dashed-wrapped {border: 1px dashed gray;margin: 0 0.4em 0.5em 0.4em;box-sizing: border-box;padding-bottom: 0.4em;background-color: white;}#sk-container-id-5 div.sk-label label {font-family: monospace;font-weight: bold;display: inline-block;line-height: 1.2em;}#sk-container-id-5 div.sk-label-container {text-align: center;}#sk-container-id-5 div.sk-container {/* jupyter's `normalize.less` sets `[hidden] { display: none; }` but bootstrap.min.css set `[hidden] { display: none !important; }` so we also need the `!important` here to be able to override the default hidden behavior on the sphinx rendered scikit-learn.org. See: https://github.com/scikit-learn/scikit-learn/issues/21755 */display: inline-block !important;position: relative;}#sk-container-id-5 div.sk-text-repr-fallback {display: none;}</style><div id=\"sk-container-id-5\" class=\"sk-top-container\"><div class=\"sk-text-repr-fallback\"><pre>BernoulliNB()</pre><b>In a Jupyter environment, please rerun this cell to show the HTML representation or trust the notebook. <br />On GitHub, the HTML representation is unable to render, please try loading this page with nbviewer.org.</b></div><div class=\"sk-container\" hidden><div class=\"sk-item\"><div class=\"sk-estimator sk-toggleable\"><input class=\"sk-toggleable__control sk-hidden--visually\" id=\"sk-estimator-id-5\" type=\"checkbox\" checked><label for=\"sk-estimator-id-5\" class=\"sk-toggleable__label sk-toggleable__label-arrow\">BernoulliNB</label><div class=\"sk-toggleable__content\"><pre>BernoulliNB()</pre></div></div></div></div></div>"
            ]
          },
          "metadata": {},
          "execution_count": 31
        }
      ]
    },
    {
      "cell_type": "code",
      "source": [
        "# make predictions on the test data\n",
        "pred = naive_bayes2.predict(X_test)\n",
        "\n",
        "# print confusion matrix\n",
        "from sklearn.metrics import confusion_matrix\n",
        "confusion_matrix(y_test, pred)"
      ],
      "metadata": {
        "colab": {
          "base_uri": "https://localhost:8080/",
          "height": 0
        },
        "id": "q4gJOFporDDg",
        "outputId": "155f9579-90d9-4c74-8f83-1840891a054d"
      },
      "execution_count": 32,
      "outputs": [
        {
          "output_type": "execute_result",
          "data": {
            "text/plain": [
              "array([[ 945,  533],\n",
              "       [ 181, 1840]])"
            ]
          },
          "metadata": {},
          "execution_count": 32
        }
      ]
    },
    {
      "cell_type": "code",
      "source": [
        "print('accuracy score: ', accuracy_score(y_test, pred))"
      ],
      "metadata": {
        "colab": {
          "base_uri": "https://localhost:8080/",
          "height": 0
        },
        "id": "IooN3XTvrNS1",
        "outputId": "07e6f3ac-f3b7-4300-9c1d-f8c4e770d5d4"
      },
      "execution_count": 33,
      "outputs": [
        {
          "output_type": "stream",
          "name": "stdout",
          "text": [
            "accuracy score:  0.7959416976278937\n"
          ]
        }
      ]
    },
    {
      "cell_type": "markdown",
      "source": [
        "This actually decreased the accuracy. Decrease FP, but increase FN."
      ],
      "metadata": {
        "id": "WFuoHRperXPQ"
      }
    },
    {
      "cell_type": "code",
      "source": [
        "naive_bayes3 = BernoulliNB(alpha=1, binarize=0.05, fit_prior=False)\n",
        "naive_bayes3.fit(X_train, y_train)"
      ],
      "metadata": {
        "colab": {
          "base_uri": "https://localhost:8080/",
          "height": 75
        },
        "id": "nU4eB5eGt71I",
        "outputId": "f04a3eed-6dcd-4aef-eec3-5f57225be95c"
      },
      "execution_count": 34,
      "outputs": [
        {
          "output_type": "execute_result",
          "data": {
            "text/plain": [
              "BernoulliNB(alpha=1, binarize=0.05, fit_prior=False)"
            ],
            "text/html": [
              "<style>#sk-container-id-6 {color: black;background-color: white;}#sk-container-id-6 pre{padding: 0;}#sk-container-id-6 div.sk-toggleable {background-color: white;}#sk-container-id-6 label.sk-toggleable__label {cursor: pointer;display: block;width: 100%;margin-bottom: 0;padding: 0.3em;box-sizing: border-box;text-align: center;}#sk-container-id-6 label.sk-toggleable__label-arrow:before {content: \"▸\";float: left;margin-right: 0.25em;color: #696969;}#sk-container-id-6 label.sk-toggleable__label-arrow:hover:before {color: black;}#sk-container-id-6 div.sk-estimator:hover label.sk-toggleable__label-arrow:before {color: black;}#sk-container-id-6 div.sk-toggleable__content {max-height: 0;max-width: 0;overflow: hidden;text-align: left;background-color: #f0f8ff;}#sk-container-id-6 div.sk-toggleable__content pre {margin: 0.2em;color: black;border-radius: 0.25em;background-color: #f0f8ff;}#sk-container-id-6 input.sk-toggleable__control:checked~div.sk-toggleable__content {max-height: 200px;max-width: 100%;overflow: auto;}#sk-container-id-6 input.sk-toggleable__control:checked~label.sk-toggleable__label-arrow:before {content: \"▾\";}#sk-container-id-6 div.sk-estimator input.sk-toggleable__control:checked~label.sk-toggleable__label {background-color: #d4ebff;}#sk-container-id-6 div.sk-label input.sk-toggleable__control:checked~label.sk-toggleable__label {background-color: #d4ebff;}#sk-container-id-6 input.sk-hidden--visually {border: 0;clip: rect(1px 1px 1px 1px);clip: rect(1px, 1px, 1px, 1px);height: 1px;margin: -1px;overflow: hidden;padding: 0;position: absolute;width: 1px;}#sk-container-id-6 div.sk-estimator {font-family: monospace;background-color: #f0f8ff;border: 1px dotted black;border-radius: 0.25em;box-sizing: border-box;margin-bottom: 0.5em;}#sk-container-id-6 div.sk-estimator:hover {background-color: #d4ebff;}#sk-container-id-6 div.sk-parallel-item::after {content: \"\";width: 100%;border-bottom: 1px solid gray;flex-grow: 1;}#sk-container-id-6 div.sk-label:hover label.sk-toggleable__label {background-color: #d4ebff;}#sk-container-id-6 div.sk-serial::before {content: \"\";position: absolute;border-left: 1px solid gray;box-sizing: border-box;top: 0;bottom: 0;left: 50%;z-index: 0;}#sk-container-id-6 div.sk-serial {display: flex;flex-direction: column;align-items: center;background-color: white;padding-right: 0.2em;padding-left: 0.2em;position: relative;}#sk-container-id-6 div.sk-item {position: relative;z-index: 1;}#sk-container-id-6 div.sk-parallel {display: flex;align-items: stretch;justify-content: center;background-color: white;position: relative;}#sk-container-id-6 div.sk-item::before, #sk-container-id-6 div.sk-parallel-item::before {content: \"\";position: absolute;border-left: 1px solid gray;box-sizing: border-box;top: 0;bottom: 0;left: 50%;z-index: -1;}#sk-container-id-6 div.sk-parallel-item {display: flex;flex-direction: column;z-index: 1;position: relative;background-color: white;}#sk-container-id-6 div.sk-parallel-item:first-child::after {align-self: flex-end;width: 50%;}#sk-container-id-6 div.sk-parallel-item:last-child::after {align-self: flex-start;width: 50%;}#sk-container-id-6 div.sk-parallel-item:only-child::after {width: 0;}#sk-container-id-6 div.sk-dashed-wrapped {border: 1px dashed gray;margin: 0 0.4em 0.5em 0.4em;box-sizing: border-box;padding-bottom: 0.4em;background-color: white;}#sk-container-id-6 div.sk-label label {font-family: monospace;font-weight: bold;display: inline-block;line-height: 1.2em;}#sk-container-id-6 div.sk-label-container {text-align: center;}#sk-container-id-6 div.sk-container {/* jupyter's `normalize.less` sets `[hidden] { display: none; }` but bootstrap.min.css set `[hidden] { display: none !important; }` so we also need the `!important` here to be able to override the default hidden behavior on the sphinx rendered scikit-learn.org. See: https://github.com/scikit-learn/scikit-learn/issues/21755 */display: inline-block !important;position: relative;}#sk-container-id-6 div.sk-text-repr-fallback {display: none;}</style><div id=\"sk-container-id-6\" class=\"sk-top-container\"><div class=\"sk-text-repr-fallback\"><pre>BernoulliNB(alpha=1, binarize=0.05, fit_prior=False)</pre><b>In a Jupyter environment, please rerun this cell to show the HTML representation or trust the notebook. <br />On GitHub, the HTML representation is unable to render, please try loading this page with nbviewer.org.</b></div><div class=\"sk-container\" hidden><div class=\"sk-item\"><div class=\"sk-estimator sk-toggleable\"><input class=\"sk-toggleable__control sk-hidden--visually\" id=\"sk-estimator-id-6\" type=\"checkbox\" checked><label for=\"sk-estimator-id-6\" class=\"sk-toggleable__label sk-toggleable__label-arrow\">BernoulliNB</label><div class=\"sk-toggleable__content\"><pre>BernoulliNB(alpha=1, binarize=0.05, fit_prior=False)</pre></div></div></div></div></div>"
            ]
          },
          "metadata": {},
          "execution_count": 34
        }
      ]
    },
    {
      "cell_type": "code",
      "source": [
        "# make predictions on the test data\n",
        "pred = naive_bayes3.predict(X_test)\n",
        "\n",
        "# print confusion matrix\n",
        "confusion_matrix(y_test, pred)\n",
        "\n",
        "print('accuracy score: ', accuracy_score(y_test, pred))"
      ],
      "metadata": {
        "colab": {
          "base_uri": "https://localhost:8080/",
          "height": 0
        },
        "id": "Xpy4iLFMt_x-",
        "outputId": "0e28d6d9-adb9-47c0-f512-30f77be415b7"
      },
      "execution_count": 35,
      "outputs": [
        {
          "output_type": "stream",
          "name": "stdout",
          "text": [
            "accuracy score:  0.8093741068876822\n"
          ]
        }
      ]
    },
    {
      "cell_type": "markdown",
      "source": [
        "After playing with the parameters for a little bit, I got the accuracy to above 80 percent."
      ],
      "metadata": {
        "id": "84_YNmZ8wT39"
      }
    },
    {
      "cell_type": "markdown",
      "source": [
        "# Step 2. Logistic Regression\n"
      ],
      "metadata": {
        "id": "-CnJ1wsP9EML"
      }
    },
    {
      "cell_type": "code",
      "source": [
        "df = pd.read_csv('train.csv', header=0, usecols=[3, 4], encoding='latin-1')\n",
        "X = df.user_review\n",
        "y = df.user_suggestion\n",
        "\n",
        "# Split 80% train and 20% test.\n",
        "X_train, X_test, y_train, y_test = train_test_split(X, y, test_size=0.2, random_state=49)\n",
        "from sklearn.feature_extraction.text import TfidfVectorizer\n",
        "\n",
        "vectorizer = TfidfVectorizer(binary=True)\n",
        "X_train = vectorizer.fit_transform(X_train)  # fit and transform the train data\n",
        "X_test = vectorizer.transform(X_test)        # transform only the test data"
      ],
      "metadata": {
        "id": "YN26VvGF9qfc"
      },
      "execution_count": 36,
      "outputs": []
    },
    {
      "cell_type": "code",
      "source": [
        "from sklearn.linear_model import LogisticRegression\n",
        "\n",
        "#training the regression\n",
        "classifier = LogisticRegression(solver='lbfgs', class_weight='balanced')\n",
        "classifier.fit(X_train, y_train)"
      ],
      "metadata": {
        "colab": {
          "base_uri": "https://localhost:8080/",
          "height": 75
        },
        "id": "YJh0vlPT-Os4",
        "outputId": "32694cca-4f69-497c-97d7-ae440db91be5"
      },
      "execution_count": 37,
      "outputs": [
        {
          "output_type": "execute_result",
          "data": {
            "text/plain": [
              "LogisticRegression(class_weight='balanced')"
            ],
            "text/html": [
              "<style>#sk-container-id-7 {color: black;background-color: white;}#sk-container-id-7 pre{padding: 0;}#sk-container-id-7 div.sk-toggleable {background-color: white;}#sk-container-id-7 label.sk-toggleable__label {cursor: pointer;display: block;width: 100%;margin-bottom: 0;padding: 0.3em;box-sizing: border-box;text-align: center;}#sk-container-id-7 label.sk-toggleable__label-arrow:before {content: \"▸\";float: left;margin-right: 0.25em;color: #696969;}#sk-container-id-7 label.sk-toggleable__label-arrow:hover:before {color: black;}#sk-container-id-7 div.sk-estimator:hover label.sk-toggleable__label-arrow:before {color: black;}#sk-container-id-7 div.sk-toggleable__content {max-height: 0;max-width: 0;overflow: hidden;text-align: left;background-color: #f0f8ff;}#sk-container-id-7 div.sk-toggleable__content pre {margin: 0.2em;color: black;border-radius: 0.25em;background-color: #f0f8ff;}#sk-container-id-7 input.sk-toggleable__control:checked~div.sk-toggleable__content {max-height: 200px;max-width: 100%;overflow: auto;}#sk-container-id-7 input.sk-toggleable__control:checked~label.sk-toggleable__label-arrow:before {content: \"▾\";}#sk-container-id-7 div.sk-estimator input.sk-toggleable__control:checked~label.sk-toggleable__label {background-color: #d4ebff;}#sk-container-id-7 div.sk-label input.sk-toggleable__control:checked~label.sk-toggleable__label {background-color: #d4ebff;}#sk-container-id-7 input.sk-hidden--visually {border: 0;clip: rect(1px 1px 1px 1px);clip: rect(1px, 1px, 1px, 1px);height: 1px;margin: -1px;overflow: hidden;padding: 0;position: absolute;width: 1px;}#sk-container-id-7 div.sk-estimator {font-family: monospace;background-color: #f0f8ff;border: 1px dotted black;border-radius: 0.25em;box-sizing: border-box;margin-bottom: 0.5em;}#sk-container-id-7 div.sk-estimator:hover {background-color: #d4ebff;}#sk-container-id-7 div.sk-parallel-item::after {content: \"\";width: 100%;border-bottom: 1px solid gray;flex-grow: 1;}#sk-container-id-7 div.sk-label:hover label.sk-toggleable__label {background-color: #d4ebff;}#sk-container-id-7 div.sk-serial::before {content: \"\";position: absolute;border-left: 1px solid gray;box-sizing: border-box;top: 0;bottom: 0;left: 50%;z-index: 0;}#sk-container-id-7 div.sk-serial {display: flex;flex-direction: column;align-items: center;background-color: white;padding-right: 0.2em;padding-left: 0.2em;position: relative;}#sk-container-id-7 div.sk-item {position: relative;z-index: 1;}#sk-container-id-7 div.sk-parallel {display: flex;align-items: stretch;justify-content: center;background-color: white;position: relative;}#sk-container-id-7 div.sk-item::before, #sk-container-id-7 div.sk-parallel-item::before {content: \"\";position: absolute;border-left: 1px solid gray;box-sizing: border-box;top: 0;bottom: 0;left: 50%;z-index: -1;}#sk-container-id-7 div.sk-parallel-item {display: flex;flex-direction: column;z-index: 1;position: relative;background-color: white;}#sk-container-id-7 div.sk-parallel-item:first-child::after {align-self: flex-end;width: 50%;}#sk-container-id-7 div.sk-parallel-item:last-child::after {align-self: flex-start;width: 50%;}#sk-container-id-7 div.sk-parallel-item:only-child::after {width: 0;}#sk-container-id-7 div.sk-dashed-wrapped {border: 1px dashed gray;margin: 0 0.4em 0.5em 0.4em;box-sizing: border-box;padding-bottom: 0.4em;background-color: white;}#sk-container-id-7 div.sk-label label {font-family: monospace;font-weight: bold;display: inline-block;line-height: 1.2em;}#sk-container-id-7 div.sk-label-container {text-align: center;}#sk-container-id-7 div.sk-container {/* jupyter's `normalize.less` sets `[hidden] { display: none; }` but bootstrap.min.css set `[hidden] { display: none !important; }` so we also need the `!important` here to be able to override the default hidden behavior on the sphinx rendered scikit-learn.org. See: https://github.com/scikit-learn/scikit-learn/issues/21755 */display: inline-block !important;position: relative;}#sk-container-id-7 div.sk-text-repr-fallback {display: none;}</style><div id=\"sk-container-id-7\" class=\"sk-top-container\"><div class=\"sk-text-repr-fallback\"><pre>LogisticRegression(class_weight=&#x27;balanced&#x27;)</pre><b>In a Jupyter environment, please rerun this cell to show the HTML representation or trust the notebook. <br />On GitHub, the HTML representation is unable to render, please try loading this page with nbviewer.org.</b></div><div class=\"sk-container\" hidden><div class=\"sk-item\"><div class=\"sk-estimator sk-toggleable\"><input class=\"sk-toggleable__control sk-hidden--visually\" id=\"sk-estimator-id-7\" type=\"checkbox\" checked><label for=\"sk-estimator-id-7\" class=\"sk-toggleable__label sk-toggleable__label-arrow\">LogisticRegression</label><div class=\"sk-toggleable__content\"><pre>LogisticRegression(class_weight=&#x27;balanced&#x27;)</pre></div></div></div></div></div>"
            ]
          },
          "metadata": {},
          "execution_count": 37
        }
      ]
    },
    {
      "cell_type": "code",
      "source": [
        "# evaluate\n",
        "pred = classifier.predict(X_test)\n",
        "print('accuracy score: ', accuracy_score(y_test, pred))\n",
        "\n",
        "# print confusion matrix\n",
        "print(confusion_matrix(y_test, pred))"
      ],
      "metadata": {
        "colab": {
          "base_uri": "https://localhost:8080/",
          "height": 0
        },
        "id": "lVHbRvbD-X15",
        "outputId": "743e0a8a-7479-4f56-923f-1b2560907dac"
      },
      "execution_count": 38,
      "outputs": [
        {
          "output_type": "stream",
          "name": "stdout",
          "text": [
            "accuracy score:  0.8588168048013718\n",
            "[[1277  201]\n",
            " [ 293 1728]]\n"
          ]
        }
      ]
    },
    {
      "cell_type": "markdown",
      "source": [
        "## Trying Pipelines"
      ],
      "metadata": {
        "id": "rOAgmoCE-uwG"
      }
    },
    {
      "cell_type": "code",
      "source": [
        "from sklearn.pipeline import Pipeline\n",
        "\n",
        "X_train, X_test, y_train, y_test = train_test_split(X, y, test_size=0.2, random_state=49)\n",
        "\n",
        "pipe1 = Pipeline([\n",
        "  ('tfidf', TfidfVectorizer(binary=True)),\n",
        "  ('logreg', LogisticRegression(solver='lbfgs', class_weight='balanced')),\n",
        "])\n",
        "\n",
        "pipe1.fit(X_train, y_train)"
      ],
      "metadata": {
        "colab": {
          "base_uri": "https://localhost:8080/",
          "height": 127
        },
        "id": "EO_BH94q-wHc",
        "outputId": "3e8a49f7-fce8-4b43-bd7b-de95e364c4b3"
      },
      "execution_count": 39,
      "outputs": [
        {
          "output_type": "execute_result",
          "data": {
            "text/plain": [
              "Pipeline(steps=[('tfidf', TfidfVectorizer(binary=True)),\n",
              "                ('logreg', LogisticRegression(class_weight='balanced'))])"
            ],
            "text/html": [
              "<style>#sk-container-id-8 {color: black;background-color: white;}#sk-container-id-8 pre{padding: 0;}#sk-container-id-8 div.sk-toggleable {background-color: white;}#sk-container-id-8 label.sk-toggleable__label {cursor: pointer;display: block;width: 100%;margin-bottom: 0;padding: 0.3em;box-sizing: border-box;text-align: center;}#sk-container-id-8 label.sk-toggleable__label-arrow:before {content: \"▸\";float: left;margin-right: 0.25em;color: #696969;}#sk-container-id-8 label.sk-toggleable__label-arrow:hover:before {color: black;}#sk-container-id-8 div.sk-estimator:hover label.sk-toggleable__label-arrow:before {color: black;}#sk-container-id-8 div.sk-toggleable__content {max-height: 0;max-width: 0;overflow: hidden;text-align: left;background-color: #f0f8ff;}#sk-container-id-8 div.sk-toggleable__content pre {margin: 0.2em;color: black;border-radius: 0.25em;background-color: #f0f8ff;}#sk-container-id-8 input.sk-toggleable__control:checked~div.sk-toggleable__content {max-height: 200px;max-width: 100%;overflow: auto;}#sk-container-id-8 input.sk-toggleable__control:checked~label.sk-toggleable__label-arrow:before {content: \"▾\";}#sk-container-id-8 div.sk-estimator input.sk-toggleable__control:checked~label.sk-toggleable__label {background-color: #d4ebff;}#sk-container-id-8 div.sk-label input.sk-toggleable__control:checked~label.sk-toggleable__label {background-color: #d4ebff;}#sk-container-id-8 input.sk-hidden--visually {border: 0;clip: rect(1px 1px 1px 1px);clip: rect(1px, 1px, 1px, 1px);height: 1px;margin: -1px;overflow: hidden;padding: 0;position: absolute;width: 1px;}#sk-container-id-8 div.sk-estimator {font-family: monospace;background-color: #f0f8ff;border: 1px dotted black;border-radius: 0.25em;box-sizing: border-box;margin-bottom: 0.5em;}#sk-container-id-8 div.sk-estimator:hover {background-color: #d4ebff;}#sk-container-id-8 div.sk-parallel-item::after {content: \"\";width: 100%;border-bottom: 1px solid gray;flex-grow: 1;}#sk-container-id-8 div.sk-label:hover label.sk-toggleable__label {background-color: #d4ebff;}#sk-container-id-8 div.sk-serial::before {content: \"\";position: absolute;border-left: 1px solid gray;box-sizing: border-box;top: 0;bottom: 0;left: 50%;z-index: 0;}#sk-container-id-8 div.sk-serial {display: flex;flex-direction: column;align-items: center;background-color: white;padding-right: 0.2em;padding-left: 0.2em;position: relative;}#sk-container-id-8 div.sk-item {position: relative;z-index: 1;}#sk-container-id-8 div.sk-parallel {display: flex;align-items: stretch;justify-content: center;background-color: white;position: relative;}#sk-container-id-8 div.sk-item::before, #sk-container-id-8 div.sk-parallel-item::before {content: \"\";position: absolute;border-left: 1px solid gray;box-sizing: border-box;top: 0;bottom: 0;left: 50%;z-index: -1;}#sk-container-id-8 div.sk-parallel-item {display: flex;flex-direction: column;z-index: 1;position: relative;background-color: white;}#sk-container-id-8 div.sk-parallel-item:first-child::after {align-self: flex-end;width: 50%;}#sk-container-id-8 div.sk-parallel-item:last-child::after {align-self: flex-start;width: 50%;}#sk-container-id-8 div.sk-parallel-item:only-child::after {width: 0;}#sk-container-id-8 div.sk-dashed-wrapped {border: 1px dashed gray;margin: 0 0.4em 0.5em 0.4em;box-sizing: border-box;padding-bottom: 0.4em;background-color: white;}#sk-container-id-8 div.sk-label label {font-family: monospace;font-weight: bold;display: inline-block;line-height: 1.2em;}#sk-container-id-8 div.sk-label-container {text-align: center;}#sk-container-id-8 div.sk-container {/* jupyter's `normalize.less` sets `[hidden] { display: none; }` but bootstrap.min.css set `[hidden] { display: none !important; }` so we also need the `!important` here to be able to override the default hidden behavior on the sphinx rendered scikit-learn.org. See: https://github.com/scikit-learn/scikit-learn/issues/21755 */display: inline-block !important;position: relative;}#sk-container-id-8 div.sk-text-repr-fallback {display: none;}</style><div id=\"sk-container-id-8\" class=\"sk-top-container\"><div class=\"sk-text-repr-fallback\"><pre>Pipeline(steps=[(&#x27;tfidf&#x27;, TfidfVectorizer(binary=True)),\n",
              "                (&#x27;logreg&#x27;, LogisticRegression(class_weight=&#x27;balanced&#x27;))])</pre><b>In a Jupyter environment, please rerun this cell to show the HTML representation or trust the notebook. <br />On GitHub, the HTML representation is unable to render, please try loading this page with nbviewer.org.</b></div><div class=\"sk-container\" hidden><div class=\"sk-item sk-dashed-wrapped\"><div class=\"sk-label-container\"><div class=\"sk-label sk-toggleable\"><input class=\"sk-toggleable__control sk-hidden--visually\" id=\"sk-estimator-id-8\" type=\"checkbox\" ><label for=\"sk-estimator-id-8\" class=\"sk-toggleable__label sk-toggleable__label-arrow\">Pipeline</label><div class=\"sk-toggleable__content\"><pre>Pipeline(steps=[(&#x27;tfidf&#x27;, TfidfVectorizer(binary=True)),\n",
              "                (&#x27;logreg&#x27;, LogisticRegression(class_weight=&#x27;balanced&#x27;))])</pre></div></div></div><div class=\"sk-serial\"><div class=\"sk-item\"><div class=\"sk-estimator sk-toggleable\"><input class=\"sk-toggleable__control sk-hidden--visually\" id=\"sk-estimator-id-9\" type=\"checkbox\" ><label for=\"sk-estimator-id-9\" class=\"sk-toggleable__label sk-toggleable__label-arrow\">TfidfVectorizer</label><div class=\"sk-toggleable__content\"><pre>TfidfVectorizer(binary=True)</pre></div></div></div><div class=\"sk-item\"><div class=\"sk-estimator sk-toggleable\"><input class=\"sk-toggleable__control sk-hidden--visually\" id=\"sk-estimator-id-10\" type=\"checkbox\" ><label for=\"sk-estimator-id-10\" class=\"sk-toggleable__label sk-toggleable__label-arrow\">LogisticRegression</label><div class=\"sk-toggleable__content\"><pre>LogisticRegression(class_weight=&#x27;balanced&#x27;)</pre></div></div></div></div></div></div></div>"
            ]
          },
          "metadata": {},
          "execution_count": 39
        }
      ]
    },
    {
      "cell_type": "code",
      "source": [
        "prediction = pipe1.predict(X_test)\n",
        "print('accuracy score: ', accuracy_score(y_test, prediction))"
      ],
      "metadata": {
        "colab": {
          "base_uri": "https://localhost:8080/",
          "height": 0
        },
        "id": "JsvQfCvo_ER7",
        "outputId": "f20c7648-f7f6-4d74-b889-c39783070935"
      },
      "execution_count": 40,
      "outputs": [
        {
          "output_type": "stream",
          "name": "stdout",
          "text": [
            "accuracy score:  0.8588168048013718\n"
          ]
        }
      ]
    },
    {
      "cell_type": "code",
      "source": [
        "# to check all the parameters of the pipeline, do this:\n",
        "pipe1.get_params()"
      ],
      "metadata": {
        "colab": {
          "base_uri": "https://localhost:8080/",
          "height": 0
        },
        "id": "rU5wBJpsH3jj",
        "outputId": "6117d897-68d1-4edf-881c-d483878c42d1"
      },
      "execution_count": 41,
      "outputs": [
        {
          "output_type": "execute_result",
          "data": {
            "text/plain": [
              "{'memory': None,\n",
              " 'steps': [('tfidf', TfidfVectorizer(binary=True)),\n",
              "  ('logreg', LogisticRegression(class_weight='balanced'))],\n",
              " 'verbose': False,\n",
              " 'tfidf': TfidfVectorizer(binary=True),\n",
              " 'logreg': LogisticRegression(class_weight='balanced'),\n",
              " 'tfidf__analyzer': 'word',\n",
              " 'tfidf__binary': True,\n",
              " 'tfidf__decode_error': 'strict',\n",
              " 'tfidf__dtype': numpy.float64,\n",
              " 'tfidf__encoding': 'utf-8',\n",
              " 'tfidf__input': 'content',\n",
              " 'tfidf__lowercase': True,\n",
              " 'tfidf__max_df': 1.0,\n",
              " 'tfidf__max_features': None,\n",
              " 'tfidf__min_df': 1,\n",
              " 'tfidf__ngram_range': (1, 1),\n",
              " 'tfidf__norm': 'l2',\n",
              " 'tfidf__preprocessor': None,\n",
              " 'tfidf__smooth_idf': True,\n",
              " 'tfidf__stop_words': None,\n",
              " 'tfidf__strip_accents': None,\n",
              " 'tfidf__sublinear_tf': False,\n",
              " 'tfidf__token_pattern': '(?u)\\\\b\\\\w\\\\w+\\\\b',\n",
              " 'tfidf__tokenizer': None,\n",
              " 'tfidf__use_idf': True,\n",
              " 'tfidf__vocabulary': None,\n",
              " 'logreg__C': 1.0,\n",
              " 'logreg__class_weight': 'balanced',\n",
              " 'logreg__dual': False,\n",
              " 'logreg__fit_intercept': True,\n",
              " 'logreg__intercept_scaling': 1,\n",
              " 'logreg__l1_ratio': None,\n",
              " 'logreg__max_iter': 100,\n",
              " 'logreg__multi_class': 'auto',\n",
              " 'logreg__n_jobs': None,\n",
              " 'logreg__penalty': 'l2',\n",
              " 'logreg__random_state': None,\n",
              " 'logreg__solver': 'lbfgs',\n",
              " 'logreg__tol': 0.0001,\n",
              " 'logreg__verbose': 0,\n",
              " 'logreg__warm_start': False}"
            ]
          },
          "metadata": {},
          "execution_count": 41
        }
      ]
    },
    {
      "cell_type": "markdown",
      "source": [
        "## Trying some parameters"
      ],
      "metadata": {
        "id": "j2i3PR6RLnl5"
      }
    },
    {
      "cell_type": "code",
      "source": [
        "pipe1.set_params(tfidf__min_df=3, logreg__C=2.0).fit(X_train, y_train)\n",
        "pred = pipe1.predict(X_test)\n",
        "print(\"accuracy: \", accuracy_score(y_test, pred))"
      ],
      "metadata": {
        "colab": {
          "base_uri": "https://localhost:8080/",
          "height": 0
        },
        "id": "YgIoiImJH42v",
        "outputId": "d7521435-ffe3-42ff-f8a3-0aecee64cae1"
      },
      "execution_count": 42,
      "outputs": [
        {
          "output_type": "stream",
          "name": "stdout",
          "text": [
            "accuracy:  0.86024578450986\n"
          ]
        }
      ]
    },
    {
      "cell_type": "code",
      "source": [
        "pipe1.set_params(tfidf__min_df=4, logreg__C=3.0, tfidf__smooth_idf = False).fit(X_train, y_train)\n",
        "pred = pipe1.predict(X_test)\n",
        "print(\"accuracy: \", accuracy_score(y_test, pred))"
      ],
      "metadata": {
        "colab": {
          "base_uri": "https://localhost:8080/",
          "height": 0
        },
        "id": "xob8cErvJNMI",
        "outputId": "dcc5f9d4-459f-4490-bb60-6de8b1e075d7"
      },
      "execution_count": 43,
      "outputs": [
        {
          "output_type": "stream",
          "name": "stdout",
          "text": [
            "accuracy:  0.8628179479851386\n"
          ]
        }
      ]
    },
    {
      "cell_type": "code",
      "source": [
        "pipe1.set_params(tfidf__min_df=4, logreg__C=3.0).fit(X_train, y_train)\n",
        "pred = pipe1.predict(X_test)\n",
        "print(\"accuracy: \", accuracy_score(y_test, pred))"
      ],
      "metadata": {
        "colab": {
          "base_uri": "https://localhost:8080/",
          "height": 0
        },
        "id": "PyI_qUvCMKWB",
        "outputId": "c9cabd71-baf3-4d95-f11b-a198b891f58a"
      },
      "execution_count": 44,
      "outputs": [
        {
          "output_type": "stream",
          "name": "stdout",
          "text": [
            "accuracy:  0.8628179479851386\n"
          ]
        }
      ]
    },
    {
      "cell_type": "code",
      "source": [
        "pipe1.set_params(tfidf__min_df=4, logreg__C=3.0, logreg__intercept_scaling=2).fit(X_train, y_train)\n",
        "pred = pipe1.predict(X_test)\n",
        "print(\"accuracy: \", accuracy_score(y_test, pred))"
      ],
      "metadata": {
        "colab": {
          "base_uri": "https://localhost:8080/",
          "height": 0
        },
        "id": "REem-x_YMSFA",
        "outputId": "4916c49f-7473-4e61-ba26-baff4c8f6306"
      },
      "execution_count": 45,
      "outputs": [
        {
          "output_type": "stream",
          "name": "stdout",
          "text": [
            "accuracy:  0.8628179479851386\n"
          ]
        }
      ]
    },
    {
      "cell_type": "code",
      "source": [
        "pipe1.set_params(tfidf__min_df=4, logreg__C=3.0, logreg__intercept_scaling=10).fit(X_train, y_train)\n",
        "pred = pipe1.predict(X_test)\n",
        "print(\"accuracy: \", accuracy_score(y_test, pred))"
      ],
      "metadata": {
        "colab": {
          "base_uri": "https://localhost:8080/",
          "height": 0
        },
        "id": "8EsRH0lIMdyb",
        "outputId": "a31b38da-4644-44d3-820f-772deb77326c"
      },
      "execution_count": 46,
      "outputs": [
        {
          "output_type": "stream",
          "name": "stdout",
          "text": [
            "accuracy:  0.8628179479851386\n"
          ]
        }
      ]
    },
    {
      "cell_type": "code",
      "source": [
        "pipe1.set_params(tfidf__min_df=10, logreg__C=3.0, logreg__intercept_scaling=2).fit(X_train, y_train)\n",
        "pred = pipe1.predict(X_test)\n",
        "print(\"accuracy: \", accuracy_score(y_test, pred))"
      ],
      "metadata": {
        "colab": {
          "base_uri": "https://localhost:8080/",
          "height": 0
        },
        "id": "iK4z4quTNYG6",
        "outputId": "3f4b8332-3056-4f9e-dee3-9b8590eed29c"
      },
      "execution_count": 47,
      "outputs": [
        {
          "output_type": "stream",
          "name": "stdout",
          "text": [
            "accuracy:  0.8593883966847671\n"
          ]
        }
      ]
    },
    {
      "cell_type": "code",
      "source": [
        "pipe1.set_params(tfidf__min_df=5, logreg__C=3.0, logreg__intercept_scaling=2).fit(X_train, y_train)\n",
        "pred = pipe1.predict(X_test)\n",
        "print(\"accuracy: \", accuracy_score(y_test, pred))"
      ],
      "metadata": {
        "colab": {
          "base_uri": "https://localhost:8080/",
          "height": 0
        },
        "id": "ccYDvBZoNfd8",
        "outputId": "3e958123-68a4-4c4d-c677-b4d598f1d494"
      },
      "execution_count": 48,
      "outputs": [
        {
          "output_type": "stream",
          "name": "stdout",
          "text": [
            "accuracy:  0.8613889682766505\n"
          ]
        }
      ]
    },
    {
      "cell_type": "code",
      "source": [
        "pipe1.set_params(tfidf__min_df=4, logreg__C=4.0, logreg__intercept_scaling=2).fit(X_train, y_train)\n",
        "pred = pipe1.predict(X_test)\n",
        "print(\"accuracy: \", accuracy_score(y_test, pred))"
      ],
      "metadata": {
        "colab": {
          "base_uri": "https://localhost:8080/",
          "height": 0
        },
        "id": "aJc5b1RHNpTW",
        "outputId": "2bf22046-9faf-41d1-8699-b1f1d6f831d5"
      },
      "execution_count": 49,
      "outputs": [
        {
          "output_type": "stream",
          "name": "stdout",
          "text": [
            "accuracy:  0.8619605601600457\n"
          ]
        }
      ]
    },
    {
      "cell_type": "markdown",
      "source": [
        "After some light testing, These parameters [tfidf__min_df=4, logreg__C=3.0, tfidf__smooth_idf = False] had the highest accuracy. However the increase in accuracy was minimal\n"
      ],
      "metadata": {
        "id": "1459Mb1ZN2kL"
      }
    },
    {
      "cell_type": "markdown",
      "source": [
        "# Step 3. Neural Network\n"
      ],
      "metadata": {
        "id": "mwUWlZ2VxjmE"
      }
    },
    {
      "cell_type": "code",
      "source": [
        "from sklearn.neural_network import MLPClassifier\n",
        "df = pd.read_csv('train.csv', header=0, usecols=[3, 4], encoding='latin-1')\n",
        "X = df.user_review\n",
        "y = df.user_suggestion\n",
        "\n",
        "# Split 80% train and 20% test.\n",
        "X_train, X_test, y_train, y_test = train_test_split(X, y, test_size=0.2, random_state=49)\n",
        "from sklearn.feature_extraction.text import TfidfVectorizer\n",
        "\n",
        "vectorizer = TfidfVectorizer(binary=True)\n",
        "X_train = vectorizer.fit_transform(X_train)  # fit and transform the train data\n",
        "X_test = vectorizer.transform(X_test)        # transform only the test data\n",
        "\n"
      ],
      "metadata": {
        "id": "oBf286eUN1fa"
      },
      "execution_count": 50,
      "outputs": []
    },
    {
      "cell_type": "code",
      "source": [
        "classifier = MLPClassifier(solver='lbfgs', alpha=1e-5, hidden_layer_sizes=(15, 2), random_state=1)\n",
        "classifier.fit(X_train, y_train)"
      ],
      "metadata": {
        "colab": {
          "base_uri": "https://localhost:8080/",
          "height": 92
        },
        "id": "fhC-r68UyDpG",
        "outputId": "c17c7ca5-e66f-4556-e9d0-f12b240735e4"
      },
      "execution_count": 51,
      "outputs": [
        {
          "output_type": "execute_result",
          "data": {
            "text/plain": [
              "MLPClassifier(alpha=1e-05, hidden_layer_sizes=(15, 2), random_state=1,\n",
              "              solver='lbfgs')"
            ],
            "text/html": [
              "<style>#sk-container-id-9 {color: black;background-color: white;}#sk-container-id-9 pre{padding: 0;}#sk-container-id-9 div.sk-toggleable {background-color: white;}#sk-container-id-9 label.sk-toggleable__label {cursor: pointer;display: block;width: 100%;margin-bottom: 0;padding: 0.3em;box-sizing: border-box;text-align: center;}#sk-container-id-9 label.sk-toggleable__label-arrow:before {content: \"▸\";float: left;margin-right: 0.25em;color: #696969;}#sk-container-id-9 label.sk-toggleable__label-arrow:hover:before {color: black;}#sk-container-id-9 div.sk-estimator:hover label.sk-toggleable__label-arrow:before {color: black;}#sk-container-id-9 div.sk-toggleable__content {max-height: 0;max-width: 0;overflow: hidden;text-align: left;background-color: #f0f8ff;}#sk-container-id-9 div.sk-toggleable__content pre {margin: 0.2em;color: black;border-radius: 0.25em;background-color: #f0f8ff;}#sk-container-id-9 input.sk-toggleable__control:checked~div.sk-toggleable__content {max-height: 200px;max-width: 100%;overflow: auto;}#sk-container-id-9 input.sk-toggleable__control:checked~label.sk-toggleable__label-arrow:before {content: \"▾\";}#sk-container-id-9 div.sk-estimator input.sk-toggleable__control:checked~label.sk-toggleable__label {background-color: #d4ebff;}#sk-container-id-9 div.sk-label input.sk-toggleable__control:checked~label.sk-toggleable__label {background-color: #d4ebff;}#sk-container-id-9 input.sk-hidden--visually {border: 0;clip: rect(1px 1px 1px 1px);clip: rect(1px, 1px, 1px, 1px);height: 1px;margin: -1px;overflow: hidden;padding: 0;position: absolute;width: 1px;}#sk-container-id-9 div.sk-estimator {font-family: monospace;background-color: #f0f8ff;border: 1px dotted black;border-radius: 0.25em;box-sizing: border-box;margin-bottom: 0.5em;}#sk-container-id-9 div.sk-estimator:hover {background-color: #d4ebff;}#sk-container-id-9 div.sk-parallel-item::after {content: \"\";width: 100%;border-bottom: 1px solid gray;flex-grow: 1;}#sk-container-id-9 div.sk-label:hover label.sk-toggleable__label {background-color: #d4ebff;}#sk-container-id-9 div.sk-serial::before {content: \"\";position: absolute;border-left: 1px solid gray;box-sizing: border-box;top: 0;bottom: 0;left: 50%;z-index: 0;}#sk-container-id-9 div.sk-serial {display: flex;flex-direction: column;align-items: center;background-color: white;padding-right: 0.2em;padding-left: 0.2em;position: relative;}#sk-container-id-9 div.sk-item {position: relative;z-index: 1;}#sk-container-id-9 div.sk-parallel {display: flex;align-items: stretch;justify-content: center;background-color: white;position: relative;}#sk-container-id-9 div.sk-item::before, #sk-container-id-9 div.sk-parallel-item::before {content: \"\";position: absolute;border-left: 1px solid gray;box-sizing: border-box;top: 0;bottom: 0;left: 50%;z-index: -1;}#sk-container-id-9 div.sk-parallel-item {display: flex;flex-direction: column;z-index: 1;position: relative;background-color: white;}#sk-container-id-9 div.sk-parallel-item:first-child::after {align-self: flex-end;width: 50%;}#sk-container-id-9 div.sk-parallel-item:last-child::after {align-self: flex-start;width: 50%;}#sk-container-id-9 div.sk-parallel-item:only-child::after {width: 0;}#sk-container-id-9 div.sk-dashed-wrapped {border: 1px dashed gray;margin: 0 0.4em 0.5em 0.4em;box-sizing: border-box;padding-bottom: 0.4em;background-color: white;}#sk-container-id-9 div.sk-label label {font-family: monospace;font-weight: bold;display: inline-block;line-height: 1.2em;}#sk-container-id-9 div.sk-label-container {text-align: center;}#sk-container-id-9 div.sk-container {/* jupyter's `normalize.less` sets `[hidden] { display: none; }` but bootstrap.min.css set `[hidden] { display: none !important; }` so we also need the `!important` here to be able to override the default hidden behavior on the sphinx rendered scikit-learn.org. See: https://github.com/scikit-learn/scikit-learn/issues/21755 */display: inline-block !important;position: relative;}#sk-container-id-9 div.sk-text-repr-fallback {display: none;}</style><div id=\"sk-container-id-9\" class=\"sk-top-container\"><div class=\"sk-text-repr-fallback\"><pre>MLPClassifier(alpha=1e-05, hidden_layer_sizes=(15, 2), random_state=1,\n",
              "              solver=&#x27;lbfgs&#x27;)</pre><b>In a Jupyter environment, please rerun this cell to show the HTML representation or trust the notebook. <br />On GitHub, the HTML representation is unable to render, please try loading this page with nbviewer.org.</b></div><div class=\"sk-container\" hidden><div class=\"sk-item\"><div class=\"sk-estimator sk-toggleable\"><input class=\"sk-toggleable__control sk-hidden--visually\" id=\"sk-estimator-id-11\" type=\"checkbox\" checked><label for=\"sk-estimator-id-11\" class=\"sk-toggleable__label sk-toggleable__label-arrow\">MLPClassifier</label><div class=\"sk-toggleable__content\"><pre>MLPClassifier(alpha=1e-05, hidden_layer_sizes=(15, 2), random_state=1,\n",
              "              solver=&#x27;lbfgs&#x27;)</pre></div></div></div></div></div>"
            ]
          },
          "metadata": {},
          "execution_count": 51
        }
      ]
    },
    {
      "cell_type": "code",
      "source": [
        "pred = classifier.predict(X_test)\n",
        "print('accuracy score: ', accuracy_score(y_test, pred))"
      ],
      "metadata": {
        "colab": {
          "base_uri": "https://localhost:8080/",
          "height": 0
        },
        "id": "hFrnDcQEyJu9",
        "outputId": "33eaca4f-56db-41e3-e24e-99d6646fbec6"
      },
      "execution_count": 52,
      "outputs": [
        {
          "output_type": "stream",
          "name": "stdout",
          "text": [
            "accuracy score:  0.5775935981709059\n"
          ]
        }
      ]
    },
    {
      "cell_type": "markdown",
      "source": [
        "## Trying other parameters"
      ],
      "metadata": {
        "id": "-_0PsiAs08lU"
      }
    },
    {
      "cell_type": "code",
      "source": [
        "# Change the activation function\n",
        "classifier = MLPClassifier(solver='lbfgs', alpha=0.01, hidden_layer_sizes=(50, 2), random_state=1, activation='tanh')\n",
        "classifier.fit(X_train, y_train)\n",
        "\n",
        "pred = classifier.predict(X_test)\n",
        "print('accuracy score: ', accuracy_score(y_test, pred))"
      ],
      "metadata": {
        "colab": {
          "base_uri": "https://localhost:8080/",
          "height": 0
        },
        "id": "lczI8Gbt5Lqs",
        "outputId": "70f1a162-cb37-412c-f657-e3656fcc59d5"
      },
      "execution_count": 60,
      "outputs": [
        {
          "output_type": "stream",
          "name": "stdout",
          "text": [
            "accuracy score:  0.8336667619319805\n"
          ]
        }
      ]
    },
    {
      "cell_type": "code",
      "source": [
        "# Change the activation function\n",
        "classifier = MLPClassifier(solver='lbfgs', alpha=0.01, hidden_layer_sizes=(50, 2), random_state=1, activation='logistic')\n",
        "classifier.fit(X_train, y_train)\n",
        "\n",
        "pred = classifier.predict(X_test)\n",
        "print('accuracy score: ', accuracy_score(y_test, pred))"
      ],
      "metadata": {
        "colab": {
          "base_uri": "https://localhost:8080/",
          "height": 0
        },
        "id": "sIo-yFbK7WuP",
        "outputId": "9e0ec61c-b19f-444b-b4c3-2f8c372bb7a5"
      },
      "execution_count": 63,
      "outputs": [
        {
          "output_type": "stream",
          "name": "stdout",
          "text": [
            "accuracy score:  0.5775935981709059\n"
          ]
        }
      ]
    },
    {
      "cell_type": "code",
      "source": [
        "# Change the activation function\n",
        "classifier = MLPClassifier(solver='lbfgs', alpha=0.01, hidden_layer_sizes=(50, 2), random_state=1, activation='identity')\n",
        "classifier.fit(X_train, y_train)\n",
        "\n",
        "pred = classifier.predict(X_test)\n",
        "print('accuracy score: ', accuracy_score(y_test, pred))"
      ],
      "metadata": {
        "colab": {
          "base_uri": "https://localhost:8080/",
          "height": 0
        },
        "id": "Z0q4Pc8G7bOG",
        "outputId": "168fc72c-d164-4edc-d035-938b83828003"
      },
      "execution_count": 64,
      "outputs": [
        {
          "output_type": "stream",
          "name": "stdout",
          "text": [
            "accuracy score:  0.8399542726493284\n"
          ]
        }
      ]
    },
    {
      "cell_type": "code",
      "source": [
        "# Lets choose activation function = identity\n",
        "# Change alpha\n",
        "classifier = MLPClassifier(solver='lbfgs', alpha=0.001, hidden_layer_sizes=(50, 2), random_state=1, activation='identity')\n",
        "classifier.fit(X_train, y_train)\n",
        "\n",
        "pred = classifier.predict(X_test)\n",
        "print('accuracy score: ', accuracy_score(y_test, pred))"
      ],
      "metadata": {
        "colab": {
          "base_uri": "https://localhost:8080/",
          "height": 0
        },
        "id": "5jwQvxrQ7bQ5",
        "outputId": "d76aedc7-a17d-47f5-8d35-4b7e2691f57e"
      },
      "execution_count": 67,
      "outputs": [
        {
          "output_type": "stream",
          "name": "stdout",
          "text": [
            "accuracy score:  0.8379537010574449\n"
          ]
        }
      ]
    },
    {
      "cell_type": "code",
      "source": [
        "# Change alpha\n",
        "classifier = MLPClassifier(solver='lbfgs', alpha=0.0001, hidden_layer_sizes=(50, 2), random_state=1, activation='identity')\n",
        "classifier.fit(X_train, y_train)\n",
        "\n",
        "pred = classifier.predict(X_test)\n",
        "print('accuracy score: ', accuracy_score(y_test, pred))"
      ],
      "metadata": {
        "colab": {
          "base_uri": "https://localhost:8080/",
          "height": 0
        },
        "id": "TanjNN8k85vj",
        "outputId": "3772820f-428c-4e0e-99f6-d3508885690e"
      },
      "execution_count": 69,
      "outputs": [
        {
          "output_type": "stream",
          "name": "stdout",
          "text": [
            "accuracy score:  0.8396684767076308\n"
          ]
        }
      ]
    },
    {
      "cell_type": "code",
      "source": [
        "# Change solver\n",
        "classifier = MLPClassifier(solver='adam', alpha=0.001, hidden_layer_sizes=(50, 2), random_state=1, activation='identity')\n",
        "classifier.fit(X_train, y_train)\n",
        "\n",
        "pred = classifier.predict(X_test)\n",
        "print('accuracy score: ', accuracy_score(y_test, pred))"
      ],
      "metadata": {
        "colab": {
          "base_uri": "https://localhost:8080/",
          "height": 0
        },
        "outputId": "5dc3c4de-9877-4cce-93b7-5daed6d409b3",
        "id": "XwlnnK4--IKW"
      },
      "execution_count": 72,
      "outputs": [
        {
          "output_type": "stream",
          "name": "stdout",
          "text": [
            "accuracy score:  0.817947985138611\n"
          ]
        }
      ]
    },
    {
      "cell_type": "markdown",
      "source": [
        "This takes too long, lets abandon this solver"
      ],
      "metadata": {
        "id": "HSZnhP7jBFEX"
      }
    },
    {
      "cell_type": "code",
      "source": [
        "# Change solver\n",
        "classifier = MLPClassifier(solver='sgd', alpha=0.001, hidden_layer_sizes=(50, 2), random_state=1, activation='identity')\n",
        "classifier.fit(X_train, y_train)\n",
        "\n",
        "pred = classifier.predict(X_test)\n",
        "print('accuracy score: ', accuracy_score(y_test, pred))"
      ],
      "metadata": {
        "colab": {
          "base_uri": "https://localhost:8080/",
          "height": 0
        },
        "id": "uHs83JaU_UDi",
        "outputId": "0b0261e0-f14d-496e-e8ab-36b97753c168"
      },
      "execution_count": 73,
      "outputs": [
        {
          "output_type": "stream",
          "name": "stdout",
          "text": [
            "accuracy score:  0.8611031723349528\n"
          ]
        },
        {
          "output_type": "stream",
          "name": "stderr",
          "text": [
            "/usr/local/lib/python3.10/dist-packages/sklearn/neural_network/_multilayer_perceptron.py:686: ConvergenceWarning: Stochastic Optimizer: Maximum iterations (200) reached and the optimization hasn't converged yet.\n",
            "  warnings.warn(\n"
          ]
        }
      ]
    },
    {
      "cell_type": "markdown",
      "source": [
        "This takes even LONGER (more than 10 mins to run to completion). Will stick to 'lbfgs'"
      ],
      "metadata": {
        "id": "jBx_-BGTDZPr"
      }
    },
    {
      "cell_type": "code",
      "source": [
        "# Change solver\n",
        "classifier = MLPClassifier(solver='lbfgs', alpha=0.001, hidden_layer_sizes=(40, 2), random_state=1, activation='identity')\n",
        "classifier.fit(X_train, y_train)\n",
        "\n",
        "pred = classifier.predict(X_test)\n",
        "print('accuracy score: ', accuracy_score(y_test, pred))"
      ],
      "metadata": {
        "colab": {
          "base_uri": "https://localhost:8080/",
          "height": 0
        },
        "id": "qy3ebEq1-Hqh",
        "outputId": "e29b8379-a982-40e7-92eb-9739e9a6a7ea"
      },
      "execution_count": 75,
      "outputs": [
        {
          "output_type": "stream",
          "name": "stdout",
          "text": [
            "accuracy score:  0.8405258645327236\n"
          ]
        }
      ]
    },
    {
      "cell_type": "code",
      "source": [
        "# Change solver\n",
        "classifier = MLPClassifier(solver='lbfgs', alpha=0.001, hidden_layer_sizes=(30, 2), random_state=1, activation='identity')\n",
        "classifier.fit(X_train, y_train)\n",
        "\n",
        "pred = classifier.predict(X_test)\n",
        "print('accuracy score: ', accuracy_score(y_test, pred))"
      ],
      "metadata": {
        "colab": {
          "base_uri": "https://localhost:8080/",
          "height": 0
        },
        "id": "Ipw_H49fK--c",
        "outputId": "9dffcb3c-449e-4dad-9cb9-ef501b65549c"
      },
      "execution_count": 76,
      "outputs": [
        {
          "output_type": "stream",
          "name": "stdout",
          "text": [
            "accuracy score:  0.8382394969991426\n"
          ]
        }
      ]
    },
    {
      "cell_type": "markdown",
      "source": [
        "# Conclusion"
      ],
      "metadata": {
        "id": "b4WkBYhqUF8f"
      }
    },
    {
      "cell_type": "markdown",
      "source": [
        "Overall, the best performing metric was Logistic Regression, followed by the best performing Neural Network, and the worst performing metric was Naive Bayes."
      ],
      "metadata": {
        "id": "COGJfdGyUMie"
      }
    },
    {
      "cell_type": "markdown",
      "source": [
        "For Naive Bayes, I tested Multinomial and Binomial parameters. Surprisingly, the Multinomical parameter was more accurate which defied the initial hypothesis that the Binomial would produce higher accuracy. Cleaning the data did not help the performance at all."
      ],
      "metadata": {
        "id": "G1IH73qlqN9w"
      }
    },
    {
      "cell_type": "markdown",
      "source": [
        "Using logistic regression, we used pipeline to find the most accurate parameters. After some testing, these parameters, (tfidf__min_df=4, logreg__C=4.0, logreg__intercept_scaling=2), were the most accurate ones."
      ],
      "metadata": {
        "id": "Bmhb1SBJvXBv"
      }
    },
    {
      "cell_type": "markdown",
      "source": [
        "For the neural network, while the most accurate solver was sgd, there was a massive tradeoff in execution time. It took sgd a little over 14 minutes to train! The 'adam' solver wasn't too much better since it took around 10 minutes to train. That's a lot of time compared to 'lbfgs' which took around 1 minute.\n",
        "For activation, relu and logistic did not work well, with subpar accuracy. The activation functions that works well were identity and tanh, where identity is slightly more accurate. Testing alpha, it seems that alpha = 0.01 was the best performing one."
      ],
      "metadata": {
        "id": "N5bUwhwmopE7"
      }
    }
  ]
}