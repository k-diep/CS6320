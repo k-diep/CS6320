{
  "nbformat": 4,
  "nbformat_minor": 0,
  "metadata": {
    "colab": {
      "provenance": []
    },
    "kernelspec": {
      "name": "python3",
      "display_name": "Python 3"
    },
    "language_info": {
      "name": "python"
    }
  },
  "cells": [
    {
      "cell_type": "markdown",
      "source": [
        "# Importing Dataset:\n",
        "# https://www.kaggle.com/datasets/arashnic/game-review-dataset"
      ],
      "metadata": {
        "id": "U2b-QL4OxtPa"
      }
    },
    {
      "cell_type": "markdown",
      "source": [
        "In this dataset, under train_gt there exists a csv file called train.csv. Columns are review_id, title, year, user_review, user_suggestion. The \"X\" value will be user_review. This will be a user's review of a game in text. The \"y\" value will be user_suggestion. This will be if the review of the game is positive or negative (1 or 0). The other columns are discarded. The purpose is to determine a review's score from some review text."
      ],
      "metadata": {
        "id": "egijKiP9vSbN"
      }
    },
    {
      "cell_type": "code",
      "execution_count": 2,
      "metadata": {
        "id": "ZLkBE6-l2SQC",
        "colab": {
          "base_uri": "https://localhost:8080/"
        },
        "outputId": "ac14ed70-e553-4138-8e5c-a329f23c3f60"
      },
      "outputs": [
        {
          "output_type": "stream",
          "name": "stdout",
          "text": [
            "rows and columns: (17494, 2)\n",
            "                                         user_review  user_suggestion\n",
            "0  I'm scared and hearing creepy voices.  So I'll...                1\n",
            "1  Best game, more better than Sam Pepper's YouTu...                1\n",
            "2  A littly iffy on the controls, but once you kn...                1\n",
            "3  Great game, fun and colorful and all that.A si...                1\n",
            "4  Not many games have the cute tag right next to...                1\n"
          ]
        }
      ],
      "source": [
        "import pandas as pd\n",
        "df = pd.read_csv('train.csv', header=0, usecols=[3, 4], encoding='latin-1')\n",
        "print('rows and columns:', df.shape)\n",
        "print(df.head())"
      ]
    },
    {
      "cell_type": "markdown",
      "source": [
        "# Text Preprocessing:"
      ],
      "metadata": {
        "id": "Y1FKEVJCySjW"
      }
    },
    {
      "cell_type": "code",
      "source": [
        "import nltk\n",
        "from nltk.corpus import stopwords\n",
        "from sklearn.feature_extraction.text import TfidfVectorizer\n",
        "\n",
        "nltk.download('stopwords')"
      ],
      "metadata": {
        "colab": {
          "base_uri": "https://localhost:8080/"
        },
        "id": "7nVqFSM5yRgq",
        "outputId": "5a962ac9-77b0-47b8-8d4d-c32e8e42d6b2"
      },
      "execution_count": null,
      "outputs": [
        {
          "output_type": "stream",
          "name": "stderr",
          "text": [
            "[nltk_data] Downloading package stopwords to /root/nltk_data...\n",
            "[nltk_data]   Package stopwords is already up-to-date!\n"
          ]
        },
        {
          "output_type": "execute_result",
          "data": {
            "text/plain": [
              "True"
            ]
          },
          "metadata": {},
          "execution_count": 2
        }
      ]
    },
    {
      "cell_type": "markdown",
      "source": [
        "# Splitting the data\n",
        "Split the data into train and test sets. 20% of the data going to the test set."
      ],
      "metadata": {
        "id": "tPpxPDXtyorx"
      }
    },
    {
      "cell_type": "code",
      "source": [
        "# split df into train and test\n",
        "import numpy as np\n",
        "\n",
        "i = np.random.rand(len(df)) < 0.8\n",
        "train = df[i]\n",
        "test = df[~i]\n",
        "print(\"train data size: \", train.shape)\n",
        "print(\"test data size: \", test.shape)"
      ],
      "metadata": {
        "colab": {
          "base_uri": "https://localhost:8080/"
        },
        "id": "2UfaLk2XTJR6",
        "outputId": "36493f6f-cee4-4b66-bc16-c8ada8e6de28"
      },
      "execution_count": null,
      "outputs": [
        {
          "output_type": "stream",
          "name": "stdout",
          "text": [
            "train data size:  (13971, 2)\n",
            "test data size:  (3523, 2)\n"
          ]
        }
      ]
    },
    {
      "cell_type": "code",
      "source": [
        "from tensorflow.keras.preprocessing.text import Tokenizer\n",
        "from tensorflow.keras.preprocessing.sequence import pad_sequences\n",
        "from tensorflow.keras import datasets, layers, models, preprocessing\n",
        "\n",
        "# Tokenize the texts\n",
        "max_words = 10000  # Consider only top 25000 words\n",
        "maxlen = 500\n",
        "tokenizer = Tokenizer(num_words=max_words)\n",
        "tokenizer.fit_on_texts(train.user_review)\n",
        "\n",
        "x_train = tokenizer.texts_to_matrix(train.user_review, mode='tfidf')\n",
        "x_test = tokenizer.texts_to_matrix(test.user_review, mode='tfidf')"
      ],
      "metadata": {
        "id": "ih9M2mUtPfj-"
      },
      "execution_count": null,
      "outputs": []
    },
    {
      "cell_type": "code",
      "source": [
        "from sklearn.preprocessing import LabelEncoder\n",
        "\n",
        "encoder = LabelEncoder()\n",
        "encoder.fit(train.user_suggestion)\n",
        "y_train = encoder.transform(train.user_suggestion)\n",
        "y_test = encoder.transform(test.user_suggestion)"
      ],
      "metadata": {
        "id": "yTU2N76GPZiB"
      },
      "execution_count": null,
      "outputs": []
    },
    {
      "cell_type": "code",
      "source": [
        "# check shape and label\n",
        "print(\"train shapes:\", x_train.shape, y_train.shape)\n",
        "print(\"test shapes:\", x_test.shape, y_test.shape)\n",
        "print(\"test labels:\", y_test)"
      ],
      "metadata": {
        "colab": {
          "base_uri": "https://localhost:8080/"
        },
        "id": "4plhkgKhUAB_",
        "outputId": "adbb574b-71e5-44c2-c7a8-bc965a84a11c"
      },
      "execution_count": null,
      "outputs": [
        {
          "output_type": "stream",
          "name": "stdout",
          "text": [
            "train shapes: (13971, 10000) (13971,)\n",
            "test shapes: (3523, 10000) (3523,)\n",
            "test labels: [1 1 1 ... 1 1 1]\n"
          ]
        }
      ]
    },
    {
      "cell_type": "markdown",
      "source": [
        "# 1. Graph"
      ],
      "metadata": {
        "id": "_V7UD5iS3OEh"
      }
    },
    {
      "cell_type": "code",
      "source": [
        "Timport seaborn as sns\n",
        "import matplotlib.pyplot as plt\n",
        "\n",
        "# Set the style of the seaborn plot\n",
        "sns.set(style=\"whitegrid\")\n",
        "\n",
        "\n",
        "# Adjust the figure size\n",
        "plt.figure(figsize=(8, 6))\n",
        "\n",
        "# Adjust the color palette\n",
        "sns.countplot(x='user_suggestion', data=df, palette=\"Set2\")\n",
        "\n",
        "# Change font size for x-axis and label\n",
        "plt.xlabel('User Suggestion', fontsize=16)\n",
        "# Change font size for y-axis and label\n",
        "plt.ylabel('Count', fontsize=16)\n",
        "\n",
        "# Increase font size for title\n",
        "plt.title('User Suggestions Distribution', fontsize=20)\n",
        "\n",
        "plt.show()"
      ],
      "metadata": {
        "colab": {
          "base_uri": "https://localhost:8080/",
          "height": 672
        },
        "id": "oeaDMrY8yrsE",
        "outputId": "f298d8a2-0e5c-4a96-ba35-00a07ff244a2"
      },
      "execution_count": null,
      "outputs": [
        {
          "output_type": "stream",
          "name": "stderr",
          "text": [
            "<ipython-input-7-33cf0e8d6230>:12: FutureWarning: \n",
            "\n",
            "Passing `palette` without assigning `hue` is deprecated and will be removed in v0.14.0. Assign the `x` variable to `hue` and set `legend=False` for the same effect.\n",
            "\n",
            "  sns.countplot(x='user_suggestion', data=df, palette=\"Set2\")\n"
          ]
        },
        {
          "output_type": "display_data",
          "data": {
            "text/plain": [
              "<Figure size 800x600 with 1 Axes>"
            ],
            "image/png": "[encoded data removed]"
          },
          "metadata": {}
        }
      ]
    },
    {
      "cell_type": "markdown",
      "source": [
        "# 2. Sequential Model"
      ],
      "metadata": {
        "id": "Q-hILeeA3Rl2"
      }
    },
    {
      "cell_type": "code",
      "source": [
        "import tensorflow as tf\n",
        "import numpy as np\n",
        "\n",
        "from tensorflow.keras import datasets, layers, models, preprocessing"
      ],
      "metadata": {
        "id": "t99d2Kqe3NB9"
      },
      "execution_count": null,
      "outputs": []
    },
    {
      "cell_type": "code",
      "source": [
        "model = models.Sequential()\n",
        "\n",
        "model.add(layers.Dense(32, input_dim=max_words, kernel_initializer='normal', activation='relu'))\n",
        "model.add(layers.Dense(1, kernel_initializer='normal', activation='sigmoid'))"
      ],
      "metadata": {
        "id": "sYABmTvw3RXa"
      },
      "execution_count": null,
      "outputs": []
    },
    {
      "cell_type": "code",
      "source": [
        "model.compile(optimizer='rmsprop',\n",
        "              loss='binary_crossentropy',\n",
        "              metrics=['accuracy'])"
      ],
      "metadata": {
        "id": "bJSJbnjAewz7"
      },
      "execution_count": null,
      "outputs": []
    },
    {
      "cell_type": "code",
      "source": [
        "model.fit(x_train, y_train, epochs=3, batch_size=64, validation_split=0.2)"
      ],
      "metadata": {
        "colab": {
          "base_uri": "https://localhost:8080/"
        },
        "id": "mOdzw0baQS3j",
        "outputId": "a7554727-ed66-4ab6-aa94-f9f9fcedd4a4"
      },
      "execution_count": null,
      "outputs": [
        {
          "output_type": "stream",
          "name": "stdout",
          "text": [
            "Epoch 1/3\n",
            "175/175 [==============================] - 3s 12ms/step - loss: 0.4719 - accuracy: 0.7887 - val_loss: 0.5103 - val_accuracy: 0.7560\n",
            "Epoch 2/3\n",
            "175/175 [==============================] - 2s 10ms/step - loss: 0.2568 - accuracy: 0.9035 - val_loss: 0.4404 - val_accuracy: 0.8100\n",
            "Epoch 3/3\n",
            "175/175 [==============================] - 2s 9ms/step - loss: 0.1721 - accuracy: 0.9364 - val_loss: 0.4634 - val_accuracy: 0.8107\n"
          ]
        },
        {
          "output_type": "execute_result",
          "data": {
            "text/plain": [
              "<keras.src.callbacks.History at 0x7fb3bd58ce80>"
            ]
          },
          "metadata": {},
          "execution_count": 11
        }
      ]
    },
    {
      "cell_type": "code",
      "source": [
        "# Accuracy score\n",
        "score = model.evaluate(x_test, y_test, batch_size=64, verbose=1)\n",
        "print('Accuracy: ', score[1])"
      ],
      "metadata": {
        "colab": {
          "base_uri": "https://localhost:8080/"
        },
        "id": "nNS5bNddVCyS",
        "outputId": "0a62ddd5-de4e-4ab4-9c6c-aa234dc2d1ee"
      },
      "execution_count": null,
      "outputs": [
        {
          "output_type": "stream",
          "name": "stdout",
          "text": [
            "56/56 [==============================] - 0s 6ms/step - loss: 0.4251 - accuracy: 0.8463\n",
            "Accuracy:  0.8463258147239685\n"
          ]
        }
      ]
    },
    {
      "cell_type": "markdown",
      "source": [
        "Try a different model and compile"
      ],
      "metadata": {
        "id": "W6RMEeO7Qwt7"
      }
    },
    {
      "cell_type": "code",
      "source": [
        "model = models.Sequential()\n",
        "\n",
        "model.add(layers.Dense(32, input_dim=max_words, kernel_initializer='normal', activation='tanh'))\n",
        "model.add(layers.Dense(1, kernel_initializer='normal', activation='relu'))"
      ],
      "metadata": {
        "id": "l2y0B-zdRAQx"
      },
      "execution_count": null,
      "outputs": []
    },
    {
      "cell_type": "code",
      "source": [
        "model.compile(optimizer='adam',\n",
        "              loss='binary_crossentropy',\n",
        "              metrics=['accuracy'])"
      ],
      "metadata": {
        "id": "E22dQ71WQwR0"
      },
      "execution_count": null,
      "outputs": []
    },
    {
      "cell_type": "code",
      "source": [
        "model.fit(x_train, y_train, epochs=5, batch_size=128, validation_split=0.2)"
      ],
      "metadata": {
        "colab": {
          "base_uri": "https://localhost:8080/"
        },
        "id": "6MFdK5ugVw0D",
        "outputId": "f14a57ef-4060-4d68-e207-f3f9d0bf12da"
      },
      "execution_count": null,
      "outputs": [
        {
          "output_type": "stream",
          "name": "stdout",
          "text": [
            "Epoch 1/5\n",
            "87/87 [==============================] - 2s 18ms/step - loss: 0.9603 - accuracy: 0.6356 - val_loss: 0.6461 - val_accuracy: 0.6802\n",
            "Epoch 2/5\n",
            "87/87 [==============================] - 1s 14ms/step - loss: 0.3802 - accuracy: 0.8665 - val_loss: 0.6411 - val_accuracy: 0.7715\n",
            "Epoch 3/5\n",
            "87/87 [==============================] - 1s 13ms/step - loss: 0.2236 - accuracy: 0.9333 - val_loss: 0.7863 - val_accuracy: 0.7686\n",
            "Epoch 4/5\n",
            "87/87 [==============================] - 1s 13ms/step - loss: 0.1445 - accuracy: 0.9624 - val_loss: 0.8643 - val_accuracy: 0.7772\n",
            "Epoch 5/5\n",
            "87/87 [==============================] - 1s 13ms/step - loss: 0.1044 - accuracy: 0.9784 - val_loss: 0.9693 - val_accuracy: 0.7801\n"
          ]
        },
        {
          "output_type": "execute_result",
          "data": {
            "text/plain": [
              "<keras.src.callbacks.History at 0x7f2d05a6f760>"
            ]
          },
          "metadata": {},
          "execution_count": 15
        }
      ]
    },
    {
      "cell_type": "code",
      "source": [
        "# Accuracy score\n",
        "score = model.evaluate(x_test, y_test, batch_size=128, verbose=1)\n",
        "print('Accuracy: ', score[1])"
      ],
      "metadata": {
        "colab": {
          "base_uri": "https://localhost:8080/"
        },
        "id": "jR-1TJAXVyAd",
        "outputId": "fbf8cabe-1daa-46de-d76e-a04323e3c01e"
      },
      "execution_count": null,
      "outputs": [
        {
          "output_type": "stream",
          "name": "stdout",
          "text": [
            "28/28 [==============================] - 0s 6ms/step - loss: 0.7637 - accuracy: 0.8287\n",
            "Accuracy:  0.828723132610321\n"
          ]
        }
      ]
    },
    {
      "cell_type": "markdown",
      "source": [
        "Let's try one more model"
      ],
      "metadata": {
        "id": "WSIDpLrOaGto"
      }
    },
    {
      "cell_type": "code",
      "source": [
        "model = models.Sequential()\n",
        "\n",
        "model.add(layers.Dense(64, input_dim=max_words, kernel_initializer='normal', activation='relu'))\n",
        "model.add(layers.Dense(1, kernel_initializer='normal', activation='tanh'))"
      ],
      "metadata": {
        "id": "svgwF5LuWpVW"
      },
      "execution_count": null,
      "outputs": []
    },
    {
      "cell_type": "code",
      "source": [
        "model.compile(optimizer='adam',\n",
        "              loss='binary_crossentropy',\n",
        "              metrics=['accuracy'])"
      ],
      "metadata": {
        "id": "2Eob2YXxaPZX"
      },
      "execution_count": null,
      "outputs": []
    },
    {
      "cell_type": "code",
      "source": [
        "model.fit(x_train, y_train, epochs=3, batch_size=64, validation_split=0.2)"
      ],
      "metadata": {
        "colab": {
          "base_uri": "https://localhost:8080/"
        },
        "id": "HTXqAYVBaQNb",
        "outputId": "882df5ec-b574-4999-be23-48c20ffdb5a1"
      },
      "execution_count": null,
      "outputs": [
        {
          "output_type": "stream",
          "name": "stdout",
          "text": [
            "Epoch 1/3\n",
            "174/174 [==============================] - 4s 17ms/step - loss: 0.6447 - accuracy: 0.7685 - val_loss: 0.6827 - val_accuracy: 0.7158\n",
            "Epoch 2/3\n",
            "174/174 [==============================] - 3s 14ms/step - loss: 0.2651 - accuracy: 0.9350 - val_loss: 0.7232 - val_accuracy: 0.7560\n",
            "Epoch 3/3\n",
            "174/174 [==============================] - 3s 18ms/step - loss: 0.1610 - accuracy: 0.9738 - val_loss: 0.8281 - val_accuracy: 0.7560\n"
          ]
        },
        {
          "output_type": "execute_result",
          "data": {
            "text/plain": [
              "<keras.src.callbacks.History at 0x7f2cf7632890>"
            ]
          },
          "metadata": {},
          "execution_count": 19
        }
      ]
    },
    {
      "cell_type": "code",
      "source": [
        "# Accuracy score\n",
        "score = model.evaluate(x_test, y_test, batch_size=64, verbose=1)\n",
        "print('Accuracy: ', score[1])"
      ],
      "metadata": {
        "colab": {
          "base_uri": "https://localhost:8080/"
        },
        "id": "GDpdgHaKaTp7",
        "outputId": "68a67b9f-cee2-4423-ce91-506cae0880b0"
      },
      "execution_count": null,
      "outputs": [
        {
          "output_type": "stream",
          "name": "stdout",
          "text": [
            "56/56 [==============================] - 0s 6ms/step - loss: 0.7394 - accuracy: 0.8254\n",
            "Accuracy:  0.825370192527771\n"
          ]
        }
      ]
    },
    {
      "cell_type": "markdown",
      "source": [
        "# 3. RNN"
      ],
      "metadata": {
        "id": "3yxnJLZjandq"
      }
    },
    {
      "cell_type": "code",
      "source": [
        "from tensorflow.keras.models import Sequential\n",
        "from tensorflow.keras.layers import Embedding, SimpleRNN, Dense\n",
        "\n",
        "# Pad sequences to make them uniform length\n",
        "x_train = pad_sequences(tokenizer.texts_to_sequences(train.user_review), maxlen=maxlen)\n",
        "x_test = pad_sequences(tokenizer.texts_to_sequences(test.user_review), maxlen=maxlen)"
      ],
      "metadata": {
        "id": "L56FJ78S0-sD"
      },
      "execution_count": null,
      "outputs": []
    },
    {
      "cell_type": "code",
      "source": [
        "# Define the RNN model architecture\n",
        "embedding_dim = 50  # Dimension of the word embeddings\n",
        "rnn_units = 32  # Number of units in the RNN layer\n",
        "\n",
        "model = Sequential([\n",
        "    Embedding(input_dim=max_words, output_dim=embedding_dim, input_length=maxlen),\n",
        "    SimpleRNN(units=rnn_units),\n",
        "    Dense(units=1, activation='sigmoid')\n",
        "])\n",
        "\n",
        "# Compile the model\n",
        "model.compile(optimizer='adam',\n",
        "              loss='binary_crossentropy',\n",
        "              metrics=['accuracy'])\n",
        "\n",
        "# Train the model\n",
        "history = model.fit(x_train, y_train, epochs=5, batch_size=64, validation_split=0.2)"
      ],
      "metadata": {
        "colab": {
          "base_uri": "https://localhost:8080/"
        },
        "id": "xMZ3WNl_anAt",
        "outputId": "c1262f00-763d-4940-8f2b-c2a1ed9e7c5c"
      },
      "execution_count": null,
      "outputs": [
        {
          "output_type": "stream",
          "name": "stdout",
          "text": [
            "Epoch 1/5\n",
            "175/175 [==============================] - 29s 152ms/step - loss: 0.6501 - accuracy: 0.6261 - val_loss: 0.9640 - val_accuracy: 0.4218\n",
            "Epoch 2/5\n",
            "175/175 [==============================] - 26s 150ms/step - loss: 0.4021 - accuracy: 0.8368 - val_loss: 0.5213 - val_accuracy: 0.7614\n",
            "Epoch 3/5\n",
            "175/175 [==============================] - 26s 150ms/step - loss: 0.1936 - accuracy: 0.9310 - val_loss: 0.5585 - val_accuracy: 0.7628\n",
            "Epoch 4/5\n",
            "175/175 [==============================] - 27s 156ms/step - loss: 0.0705 - accuracy: 0.9815 - val_loss: 0.6166 - val_accuracy: 0.7660\n",
            "Epoch 5/5\n",
            "175/175 [==============================] - 36s 208ms/step - loss: 0.0244 - accuracy: 0.9966 - val_loss: 0.7291 - val_accuracy: 0.7503\n"
          ]
        }
      ]
    },
    {
      "cell_type": "code",
      "source": [
        "# Accuracy score\n",
        "score = model.evaluate(x_test, y_test, batch_size=64, verbose=1)\n",
        "print('Accuracy: ', score[1])"
      ],
      "metadata": {
        "colab": {
          "base_uri": "https://localhost:8080/"
        },
        "id": "FOSx_nF4xmmr",
        "outputId": "982f78eb-49a5-4ced-f0bd-a6fbdce22432"
      },
      "execution_count": null,
      "outputs": [
        {
          "output_type": "stream",
          "name": "stdout",
          "text": [
            "56/56 [==============================] - 2s 29ms/step - loss: 0.5888 - accuracy: 0.8172\n",
            "Accuracy:  0.8172012567520142\n"
          ]
        }
      ]
    },
    {
      "cell_type": "markdown",
      "source": [
        "#3.2 CNN"
      ],
      "metadata": {
        "id": "SCJmno5ysTeE"
      }
    },
    {
      "cell_type": "code",
      "source": [
        "embedding_dim = 50  # Dimension of the word embeddings\n",
        "num_filters = 32\n",
        "kernel_size = 7\n",
        "\n",
        "model = models.Sequential()\n",
        "model.add(layers.Embedding(input_dim=max_words, output_dim=embedding_dim, input_length=maxlen))\n",
        "model.add(layers.Conv1D(filters=num_filters, kernel_size=kernel_size, activation='relu'))\n",
        "model.add(layers.GlobalMaxPooling1D())\n",
        "model.add(layers.Dense(128, activation='relu'))\n",
        "model.add(layers.Dense(1))"
      ],
      "metadata": {
        "id": "qgwmih3aseL2"
      },
      "execution_count": null,
      "outputs": []
    },
    {
      "cell_type": "code",
      "source": [
        "model.compile(optimizer=tf.keras.optimizers.RMSprop(learning_rate=1e-4),  # set learning rate\n",
        "              loss='binary_crossentropy',\n",
        "              metrics=['accuracy'])"
      ],
      "metadata": {
        "id": "Pye6fe8Fss5s"
      },
      "execution_count": null,
      "outputs": []
    },
    {
      "cell_type": "code",
      "source": [
        "# Train the model\n",
        "history = model.fit(x_train, y_train, epochs=10, batch_size=64, validation_split=0.2)"
      ],
      "metadata": {
        "colab": {
          "base_uri": "https://localhost:8080/"
        },
        "id": "CLMNn6TUsx1Z",
        "outputId": "a919812f-bb46-4b4a-b42b-083e5ae861c4"
      },
      "execution_count": null,
      "outputs": [
        {
          "output_type": "stream",
          "name": "stdout",
          "text": [
            "Epoch 1/10\n",
            "175/175 [==============================] - 19s 99ms/step - loss: 0.8886 - accuracy: 0.4716 - val_loss: 0.7619 - val_accuracy: 0.4204\n",
            "Epoch 2/10\n",
            "175/175 [==============================] - 17s 98ms/step - loss: 0.6629 - accuracy: 0.6022 - val_loss: 0.7658 - val_accuracy: 0.4222\n",
            "Epoch 3/10\n",
            "175/175 [==============================] - 18s 104ms/step - loss: 0.6491 - accuracy: 0.6036 - val_loss: 0.7658 - val_accuracy: 0.4229\n",
            "Epoch 4/10\n",
            "175/175 [==============================] - 18s 104ms/step - loss: 0.6316 - accuracy: 0.6084 - val_loss: 0.7355 - val_accuracy: 0.4322\n",
            "Epoch 5/10\n",
            "175/175 [==============================] - 18s 105ms/step - loss: 0.6066 - accuracy: 0.6265 - val_loss: 0.7223 - val_accuracy: 0.4558\n",
            "Epoch 6/10\n",
            "175/175 [==============================] - 17s 97ms/step - loss: 0.5690 - accuracy: 0.6701 - val_loss: 0.7048 - val_accuracy: 0.4930\n",
            "Epoch 7/10\n",
            "175/175 [==============================] - 17s 97ms/step - loss: 0.5123 - accuracy: 0.7428 - val_loss: 0.6683 - val_accuracy: 0.5657\n",
            "Epoch 8/10\n",
            "175/175 [==============================] - 19s 108ms/step - loss: 0.4496 - accuracy: 0.8052 - val_loss: 0.6512 - val_accuracy: 0.6297\n",
            "Epoch 9/10\n",
            "175/175 [==============================] - 17s 97ms/step - loss: 0.3897 - accuracy: 0.8468 - val_loss: 0.6139 - val_accuracy: 0.6887\n",
            "Epoch 10/10\n",
            "175/175 [==============================] - 16s 94ms/step - loss: 0.3373 - accuracy: 0.8731 - val_loss: 0.6327 - val_accuracy: 0.6991\n"
          ]
        }
      ]
    },
    {
      "cell_type": "code",
      "source": [
        "# Accuracy score\n",
        "score = model.evaluate(x_test, y_test, batch_size=64, verbose=1)\n",
        "print('Accuracy: ', score[1])"
      ],
      "metadata": {
        "colab": {
          "base_uri": "https://localhost:8080/"
        },
        "id": "8EoseRON0zLZ",
        "outputId": "413fdbdc-17b5-4831-abff-653c45c0e06a"
      },
      "execution_count": null,
      "outputs": [
        {
          "output_type": "stream",
          "name": "stdout",
          "text": [
            "56/56 [==============================] - 1s 21ms/step - loss: 0.4950 - accuracy: 0.7848\n",
            "Accuracy:  0.7848424911499023\n"
          ]
        }
      ]
    },
    {
      "cell_type": "markdown",
      "source": [
        "# 3.3 LSTM"
      ],
      "metadata": {
        "id": "9hNsKfTy6wPc"
      }
    },
    {
      "cell_type": "code",
      "source": [
        "embedding_dim = 50  # Dimension of the word embeddings\n",
        "lstm_units = 32  # Number of units in the RNN layer\n",
        "\n",
        "model = models.Sequential()\n",
        "model.add(layers.Embedding(input_dim=max_words, output_dim=embedding_dim, input_length=maxlen))\n",
        "model.add(layers.LSTM(32))\n",
        "model.add(layers.Dense(1, activation='sigmoid'))"
      ],
      "metadata": {
        "id": "QyhqPioy60hg"
      },
      "execution_count": null,
      "outputs": []
    },
    {
      "cell_type": "code",
      "source": [
        "model.compile(optimizer='rmsprop',\n",
        "              loss='binary_crossentropy',\n",
        "              metrics=['accuracy'])"
      ],
      "metadata": {
        "id": "D6jLVePh8PQb"
      },
      "execution_count": null,
      "outputs": []
    },
    {
      "cell_type": "code",
      "source": [
        "# Train the model\n",
        "history = model.fit(x_train, y_train, epochs=10, batch_size=64, validation_split=0.2)"
      ],
      "metadata": {
        "colab": {
          "base_uri": "https://localhost:8080/"
        },
        "outputId": "2201c68f-ddb3-430a-b232-57bf41a4e241",
        "id": "_YwFHerF8W_c"
      },
      "execution_count": null,
      "outputs": [
        {
          "output_type": "stream",
          "name": "stdout",
          "text": [
            "Epoch 1/10\n",
            "175/175 [==============================] - 57s 309ms/step - loss: 0.5575 - accuracy: 0.7078 - val_loss: 1.3803 - val_accuracy: 0.4673\n",
            "Epoch 2/10\n",
            "175/175 [==============================] - 52s 299ms/step - loss: 0.3559 - accuracy: 0.8499 - val_loss: 0.4348 - val_accuracy: 0.7986\n",
            "Epoch 3/10\n",
            "175/175 [==============================] - 52s 300ms/step - loss: 0.2794 - accuracy: 0.8914 - val_loss: 0.4324 - val_accuracy: 0.8107\n",
            "Epoch 4/10\n",
            "175/175 [==============================] - 50s 287ms/step - loss: 0.2387 - accuracy: 0.9111 - val_loss: 0.5537 - val_accuracy: 0.7746\n",
            "Epoch 5/10\n",
            "175/175 [==============================] - 50s 287ms/step - loss: 0.2108 - accuracy: 0.9211 - val_loss: 0.5282 - val_accuracy: 0.8011\n",
            "Epoch 6/10\n",
            "175/175 [==============================] - 53s 305ms/step - loss: 0.1807 - accuracy: 0.9349 - val_loss: 0.4895 - val_accuracy: 0.7950\n",
            "Epoch 7/10\n",
            "175/175 [==============================] - 50s 286ms/step - loss: 0.1633 - accuracy: 0.9417 - val_loss: 0.5771 - val_accuracy: 0.7835\n",
            "Epoch 8/10\n",
            "175/175 [==============================] - 50s 287ms/step - loss: 0.1453 - accuracy: 0.9509 - val_loss: 0.6580 - val_accuracy: 0.7567\n",
            "Epoch 9/10\n",
            "175/175 [==============================] - 51s 292ms/step - loss: 0.1313 - accuracy: 0.9556 - val_loss: 0.6896 - val_accuracy: 0.7660\n",
            "Epoch 10/10\n",
            "175/175 [==============================] - 55s 313ms/step - loss: 0.1167 - accuracy: 0.9600 - val_loss: 0.7438 - val_accuracy: 0.7750\n"
          ]
        }
      ]
    },
    {
      "cell_type": "code",
      "source": [
        "# Accuracy score\n",
        "score = model.evaluate(x_test, y_test, batch_size=64, verbose=1)\n",
        "print('Accuracy: ', score[1])"
      ],
      "metadata": {
        "colab": {
          "base_uri": "https://localhost:8080/"
        },
        "id": "OrDCv5PH-L5E",
        "outputId": "b5061f9f-fd60-44c2-d549-4c0c3c76ff0a"
      },
      "execution_count": null,
      "outputs": [
        {
          "output_type": "stream",
          "name": "stdout",
          "text": [
            "56/56 [==============================] - 4s 71ms/step - loss: 0.5632 - accuracy: 0.8345\n",
            "Accuracy:  0.8345160484313965\n"
          ]
        }
      ]
    },
    {
      "cell_type": "markdown",
      "source": [
        "# 4. Best performing model - LSTM"
      ],
      "metadata": {
        "id": "9L-I4aLjAm0V"
      }
    },
    {
      "cell_type": "code",
      "source": [
        "# Lets change the dimensions/units\n",
        "\n",
        "embedding_dim = 128  # Dimension of the word embeddings\n",
        "lstm_units = 64  # Number of units in the RNN layer\n",
        "\n",
        "model = models.Sequential()\n",
        "model.add(layers.Embedding(input_dim=max_words, output_dim=embedding_dim, input_length=maxlen))\n",
        "model.add(layers.LSTM(lstm_units))\n",
        "model.add(layers.Dense(1, activation='sigmoid'))"
      ],
      "metadata": {
        "id": "FMe6PlG1BZHU"
      },
      "execution_count": null,
      "outputs": []
    },
    {
      "cell_type": "code",
      "source": [
        "model.compile(optimizer='rmsprop',\n",
        "              loss='binary_crossentropy',\n",
        "              metrics=['accuracy'])"
      ],
      "metadata": {
        "id": "X7_LJovvBgd0"
      },
      "execution_count": null,
      "outputs": []
    },
    {
      "cell_type": "code",
      "source": [
        "# Train the model\n",
        "history = model.fit(x_train, y_train, epochs=5, batch_size=64, validation_split=0.2)"
      ],
      "metadata": {
        "colab": {
          "base_uri": "https://localhost:8080/"
        },
        "id": "u1UwFZWABhoT",
        "outputId": "0dbddcf3-eec6-4a39-a6d3-86afe1274be3"
      },
      "execution_count": null,
      "outputs": [
        {
          "output_type": "stream",
          "name": "stdout",
          "text": [
            "Epoch 1/5\n",
            "175/175 [==============================] - 122s 689ms/step - loss: 0.5490 - accuracy: 0.7079 - val_loss: 0.6534 - val_accuracy: 0.6902\n",
            "Epoch 2/5\n",
            "175/175 [==============================] - 124s 707ms/step - loss: 0.3507 - accuracy: 0.8548 - val_loss: 0.6433 - val_accuracy: 0.7349\n",
            "Epoch 3/5\n",
            "175/175 [==============================] - 123s 705ms/step - loss: 0.2841 - accuracy: 0.8897 - val_loss: 0.4930 - val_accuracy: 0.7850\n",
            "Epoch 4/5\n",
            "175/175 [==============================] - 122s 697ms/step - loss: 0.2506 - accuracy: 0.9056 - val_loss: 0.5287 - val_accuracy: 0.7818\n",
            "Epoch 5/5\n",
            "175/175 [==============================] - 124s 710ms/step - loss: 0.2150 - accuracy: 0.9196 - val_loss: 0.4684 - val_accuracy: 0.7950\n"
          ]
        }
      ]
    },
    {
      "cell_type": "code",
      "source": [
        "# Accuracy score\n",
        "score = model.evaluate(x_test, y_test, batch_size=64, verbose=1)\n",
        "print('Accuracy: ', score[1])"
      ],
      "metadata": {
        "colab": {
          "base_uri": "https://localhost:8080/"
        },
        "id": "_KDC6JaaHE_V",
        "outputId": "6af4d2a8-1bc4-4d2f-9c47-541bc0b4970d"
      },
      "execution_count": null,
      "outputs": [
        {
          "output_type": "stream",
          "name": "stdout",
          "text": [
            "56/56 [==============================] - 11s 194ms/step - loss: 0.3732 - accuracy: 0.8410\n",
            "Accuracy:  0.841044545173645\n"
          ]
        }
      ]
    },
    {
      "cell_type": "markdown",
      "source": [
        "# 5. Analysis\n",
        "\n",
        "The best performing model was the LSTM, where the output dimension = 128, lstm_units = 64, and epochs = 5. The epochs were 5 to prevent overfitting. The accuracy of this model for the test data was 84.1%, which was the most accurate model. CNN was the worst performing model, with 78% accuracy. RNN had an accuracy of 81.7%. Surprisingly, the initial sequential model performed all of the models from part 3 with accuracy of 84.6%."
      ],
      "metadata": {
        "id": "pEroQHW1Mbw_"
      }
    }
  ]
}