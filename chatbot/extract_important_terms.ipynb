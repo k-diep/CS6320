{
  "nbformat": 4,
  "nbformat_minor": 0,
  "metadata": {
    "colab": {
      "provenance": []
    },
    "kernelspec": {
      "name": "python3",
      "display_name": "Python 3"
    },
    "language_info": {
      "name": "python"
    }
  },
  "cells": [
    {
      "cell_type": "code",
      "source": [
        "import os\n",
        "import string\n",
        "import nltk\n",
        "import random\n",
        "import nltk\n",
        "from sklearn.feature_extraction.text import TfidfVectorizer\n",
        "from nltk.corpus import stopwords\n",
        "from nltk.tokenize import word_tokenize\n",
        "from nltk.tokenize import sent_tokenize\n",
        "from nltk.tokenize import RegexpTokenizer\n",
        "\n",
        "nltk.download('punkt')\n",
        "nltk.download('stopwords')\n",
        "nltk.download('wordnet')\n",
        "nltk.download('averaged_perceptron_tagger')"
      ],
      "metadata": {
        "colab": {
          "base_uri": "https://localhost:8080/"
        },
        "id": "x2nxfdxk5x0M",
        "outputId": "48954dab-54e0-470d-a800-98515e79a4a2"
      },
      "execution_count": 3,
      "outputs": [
        {
          "output_type": "stream",
          "name": "stderr",
          "text": [
            "[nltk_data] Downloading package punkt to /root/nltk_data...\n",
            "[nltk_data]   Package punkt is already up-to-date!\n",
            "[nltk_data] Downloading package stopwords to /root/nltk_data...\n",
            "[nltk_data]   Package stopwords is already up-to-date!\n",
            "[nltk_data] Downloading package wordnet to /root/nltk_data...\n",
            "[nltk_data]   Package wordnet is already up-to-date!\n",
            "[nltk_data] Downloading package averaged_perceptron_tagger to\n",
            "[nltk_data]     /root/nltk_data...\n",
            "[nltk_data]   Package averaged_perceptron_tagger is already up-to-\n",
            "[nltk_data]       date!\n"
          ]
        },
        {
          "output_type": "execute_result",
          "data": {
            "text/plain": [
              "True"
            ]
          },
          "metadata": {},
          "execution_count": 3
        }
      ]
    },
    {
      "cell_type": "code",
      "source": [
        "def preprocess_text(raw_text):\n",
        "\n",
        "  # Tokenize the raw text and lowercase\n",
        "  tokenized_raw_text = word_tokenize(raw_text.lower())\n",
        "  # print(tokenized_raw_text)\n",
        "\n",
        "  # Filter out tokens to tokens that are alpha\n",
        "  alpha_tokens = [token for token in tokenized_raw_text if token.isalpha()]\n",
        "  # print(alpha_tokens)\n",
        "\n",
        "  # Filter out tokens to tokens that not in the in the stopword list\n",
        "  stopwords_tokens = [token for token in alpha_tokens if token not in stopwords.words('english')]\n",
        "  # print(stopwords_tokens)\n",
        "\n",
        "  return stopwords_tokens\n",
        "\n",
        "# TESTING\n",
        "text = \"The game everyone’s talking about in the indie PC world right now doesn’t involve blasting aliens or commanding armies or anything that sounds nearly so exciting: Rather, it’s about agriculture. “Stardew Valley” burst onto the scene when it was officially released last month (though it had been on many gamers’ radar for a while), and it has quickly developed a big, enthusiastic following. The game was created by a first-time developer named Eric Barone (a.k.a. ConcernedApe), and it has Super Nintendo-esque graphics and music. It draws its most obvious cues from the beloved “Harvest Moon” series of farming simulators, but it goes a lot deeper. The premise is simple: You’re a young man or woman who has taken over your grandfather’s abandoned farm in peaceful Stardew Valley, and you need to make it flourish again.  You buy or find seeds, plant them, water them, and watch as they slowly grow, at which point you can often sell your crops for a tidy profit, combine them into other items, or give them away to the town’s many characters (one of whom you can woo and eventually marry, if you play your cards right). But in addition to.farming, there are fishing, mining, and all sorts of secrets to discover.  “Stardew Valley” is one of those games in which “quick” sessions stretch into hours. And yet when that happened to me, I didn’t come away with the gross, tweaked-out feeling I usually have when I fall face-first into the maw of an addictive title. Why? One reason is the sheer variety of stuff to do. In “Stardew Valley,” there’s some level of repetition — no game can escape this. But because every day is packed with so many different activities — or can be, if you play the game the right way — you don’t ever fall into the click-click-repeat trap. In an average day, my character would wake up, water his crops, go to town to pick up some stuff, and see if there were new quests to take on — they’re posted on a bulletin board outside a general store. Then he would head up to the mines to try to extract some ore. (Because your character needs sleep, there’s only so much you can squeeze into one day.) At any given moment, there are a million things to do — experiments to try, tools to upgrade, animals to buy. The game’s possibilities stretch out in front of you like the horizon. It almost feels overwhelming, but then you remember that you can play however long you want; days can stretch into seasons can stretch into years.   Though “Stardew Valley” was officially released less than a month ago, some players report logging hundreds of hours on it already, and I can see why. This is an utterly compelling, lovingly crafted game.  Republican Leaders Map a Strategy to Derail Trump Spotlight Church abuse report: Church allowed abuse by priest for years ‘Contrarian’ investor leaves a trail of bitterness and charges of preying on the weak Nick Cafardo: Two pitchers fight for one more chance to step on a major league mound.\"\n",
        "print(preprocess_text(text)[:10])"
      ],
      "metadata": {
        "colab": {
          "base_uri": "https://localhost:8080/"
        },
        "id": "JgA_U2tI7NXl",
        "outputId": "302e961d-560b-4e68-ea86-13bd4f72677e"
      },
      "execution_count": 4,
      "outputs": [
        {
          "output_type": "stream",
          "name": "stdout",
          "text": [
            "['game', 'everyone', 'talking', 'indie', 'pc', 'world', 'right', 'involve', 'blasting', 'aliens']\n"
          ]
        }
      ]
    },
    {
      "cell_type": "code",
      "source": [
        "proc_dir = 'process/'\n",
        "\n",
        "# This list holds the all relevant terms\n",
        "terms_list = []\n",
        "corpus = \"\"\n",
        "file_names = os.listdir(proc_dir)\n",
        "\n",
        "# Go thru all files\n",
        "for file in file_names:\n",
        "  print(\"Processing %s\" % file)\n",
        "\n",
        "  file_loc = proc_dir + file\n",
        "  with open(file_loc, 'r') as f:\n",
        "    file_contents = f.read()\n",
        "    corpus += file_contents\n",
        "    processed_text = preprocess_text(file_contents)\n",
        "    combined_string = ' '.join(processed_text)\n",
        "\n",
        "    # Write all processed words into the list\n",
        "    terms_list.append(combined_string)\n",
        "\n"
      ],
      "metadata": {
        "colab": {
          "base_uri": "https://localhost:8080/"
        },
        "id": "Hbih_My05pHC",
        "outputId": "7ce82c80-ec3f-45dd-8e53-fcaa0e49941b"
      },
      "execution_count": 5,
      "outputs": [
        {
          "output_type": "stream",
          "name": "stdout",
          "text": [
            "Processing materiacollective-clean-18.txt\n",
            "Processing eurogamer-clean-8.txt\n",
            "Processing mcvuk-clean-11.txt\n",
            "Processing pcgamer-clean-22.txt\n",
            "Processing vg247-clean-7.txt\n",
            "Processing destructoid-clean-9.txt\n",
            "Processing polygon-clean-15.txt\n",
            "Processing siliconera-clean-4.txt\n",
            "Processing king5-clean-21.txt\n",
            "Processing destructoid-clean-17.txt\n",
            "Processing eurogamer-clean-12.txt\n",
            "Processing usgamer-clean-10.txt\n",
            "Processing gamesindustry-clean-20.txt\n",
            "Processing en-wikipedia-clean-2.txt\n",
            "Processing pastemagazine-clean-5.txt\n",
            "Processing web-archive-clean-1.txt\n",
            "Processing pcgamer-clean-3.txt\n",
            "Processing gamespot-clean-19.txt\n",
            "Processing materiacollective-bandcamp-clean-14.txt\n"
          ]
        }
      ]
    },
    {
      "cell_type": "code",
      "source": [
        "# Used https://www.youtube.com/watch?v=_RhHA_tYYXI&ab_channel=CodeWithAarohi as reference\n",
        "def calc_tfidf_dict(tokens):\n",
        "\n",
        "  # Computing TF-IDF\n",
        "\n",
        "  tfidf_vectorizer = TfidfVectorizer()\n",
        "  tfidf_fit = tfidf_vectorizer.fit_transform(tokens)\n",
        "  # print(tfidf_fit)\n",
        "\n",
        "  # Get feature names\n",
        "  terms = tfidf_vectorizer.get_feature_names_out()\n",
        "  # print(terms)\n",
        "\n",
        "  # Create a dictionary\n",
        "  term_tfidf_dict = {}\n",
        "  for col in tfidf_fit.nonzero()[1]:\n",
        "    # print(terms[col], '-', tfidf_fit[0, col])\n",
        "    # Insert into dictionary\n",
        "    term_tfidf_dict[terms[col]] = tfidf_fit[0, col]\n",
        "\n",
        "  # Sorting dict\n",
        "  sorted_dict = dict(sorted(term_tfidf_dict.items(), key=lambda item: item[1], reverse=True))\n",
        "  return sorted_dict"
      ],
      "metadata": {
        "id": "uTqMGf6uJoBe"
      },
      "execution_count": 6,
      "outputs": []
    },
    {
      "cell_type": "code",
      "source": [
        "def get_important_terms(tfidf_dict, N):\n",
        "  # N = number of terms extracted from the TF-IDF dictionary\n",
        "  important_terms = []\n",
        "  N_terms = dict(list(tfidf_dict.items())[:N])\n",
        "  for key, value in N_terms.items():\n",
        "    # print(key)\n",
        "    important_terms.append(key)\n",
        "\n",
        "  return important_terms"
      ],
      "metadata": {
        "id": "RoUY0wFTauQl"
      },
      "execution_count": 7,
      "outputs": []
    },
    {
      "cell_type": "code",
      "source": [
        "tfidf_dict = calc_tfidf_dict(terms_list)\n",
        "# print(tfidf_dict)\n",
        "\n",
        "top_terms = get_important_terms(tfidf_dict, 40)\n",
        "print(\"Top 40 important terms:\")\n",
        "for term in top_terms:\n",
        "  print(term)"
      ],
      "metadata": {
        "colab": {
          "base_uri": "https://localhost:8080/"
        },
        "id": "XWgduPe6adHC",
        "outputId": "73c4d1eb-4140-43a1-ae2e-c41ceeec0969"
      },
      "execution_count": 8,
      "outputs": [
        {
          "output_type": "stream",
          "name": "stdout",
          "text": [
            "Top 40 important terms:\n",
            "music\n",
            "arrangements\n",
            "materia\n",
            "augustine\n",
            "album\n",
            "collective\n",
            "concernedape\n",
            "trademark\n",
            "llc\n",
            "illustrator\n",
            "pianist\n",
            "meadow\n",
            "composed\n",
            "stardew\n",
            "game\n",
            "improving\n",
            "gonzales\n",
            "mayuga\n",
            "wife\n",
            "composition\n",
            "musical\n",
            "bridgham\n",
            "solo\n",
            "eric\n",
            "year\n",
            "valley\n",
            "taken\n",
            "collections\n",
            "piano\n",
            "hope\n",
            "based\n",
            "barone\n",
            "experience\n",
            "spent\n",
            "always\n",
            "love\n",
            "even\n",
            "recordings\n",
            "shines\n",
            "liberties\n"
          ]
        }
      ]
    },
    {
      "cell_type": "code",
      "source": [
        "def check_word_in_sentence(word, sentence):\n",
        "  # Convert both word and sentence to lowercase for case-insensitive comparison\n",
        "  word = word.lower()\n",
        "  sentence = sentence.lower()\n",
        "\n",
        "  # Check if the word is present in the sentence\n",
        "  if word in sentence.split():\n",
        "    return True\n",
        "  else:\n",
        "    return False\n",
        "\n",
        "# Testing\n",
        "word1 = \"word\"\n",
        "sentence1 = \"Word is in this sentence\"\n",
        "sentence2 = \"Werd isn't in this sentence\"\n",
        "print(check_word_in_sentence(word1, sentence1))\n",
        "print(check_word_in_sentence(word1, sentence2))"
      ],
      "metadata": {
        "colab": {
          "base_uri": "https://localhost:8080/"
        },
        "id": "rNdj3jXdpTAL",
        "outputId": "af5bf0e0-1e67-4ff6-a58e-fbcde97de105"
      },
      "execution_count": 9,
      "outputs": [
        {
          "output_type": "stream",
          "name": "stdout",
          "text": [
            "True\n",
            "False\n"
          ]
        }
      ]
    },
    {
      "cell_type": "code",
      "source": [
        "# Manually determine the top 10-15 terms based on your domain knowledge (not ranked)\n",
        "# 1. Stardew Valley\n",
        "# 2. ChuckleFish\n",
        "# 3. Eric Barone\n",
        "# 4. mobile\n",
        "# 5. music\n",
        "# 6. multiplayer\n",
        "# 7.\n",
        "# 8. ConcernedApe\n",
        "# 9. album\n",
        "# 10. android\n",
        "# 11. version\n",
        "# 12. iOS\n",
        "# 13. update"
      ],
      "metadata": {
        "id": "xtpwrpeYnSQj"
      },
      "execution_count": 10,
      "outputs": []
    },
    {
      "cell_type": "code",
      "source": [
        "# Initial knowledge base\n",
        "knowledge_base = {}\n",
        "\n",
        "# Initial infomation for each term\n",
        "stardew_valley_info = []\n",
        "ChuckleFish_info = []\n",
        "Eric_Barone_info = []\n",
        "mobile_info = []\n",
        "music_info = []\n",
        "multiplayer_info = []\n",
        "ConcernedApe_info = []\n",
        "album_info = []\n",
        "android_info = []\n",
        "version_info = []\n",
        "ios_info = []\n",
        "update_info = []\n",
        "\n",
        "# Tokenize the text into sentences\n",
        "sentences = sent_tokenize(corpus)\n",
        "\n",
        "# Update infomation\n",
        "for sentence in sentences:\n",
        "  if check_word_in_sentence(\"stardew\", sentence) or check_word_in_sentence(\"valley\", sentence):\n",
        "    stardew_valley_info.append(sentence)\n",
        "\n",
        "  if check_word_in_sentence(\"ChuckleFish\", sentence):\n",
        "    ChuckleFish_info.append(sentence)\n",
        "\n",
        "  if check_word_in_sentence(\"Eric\", sentence) or check_word_in_sentence(\"Barone\", sentence):\n",
        "    Eric_Barone_info.append(sentence)\n",
        "\n",
        "  if check_word_in_sentence(\"ConcernedApe\", sentence):\n",
        "    ConcernedApe_info.append(sentence)\n",
        "\n",
        "  if check_word_in_sentence(\"mobile\", sentence):\n",
        "    mobile_info.append(sentence)\n",
        "\n",
        "  if check_word_in_sentence(\"music\", sentence):\n",
        "    music_info.append(sentence)\n",
        "\n",
        "  if check_word_in_sentence(\"multiplayer\", sentence):\n",
        "    multiplayer_info.append(sentence)\n",
        "\n",
        "  if check_word_in_sentence(\"album\", sentence):\n",
        "    album_info.append(sentence)\n",
        "\n",
        "  if check_word_in_sentence(\"android\", sentence):\n",
        "    android_info.append(sentence)\n",
        "\n",
        "  if check_word_in_sentence(\"version\", sentence):\n",
        "    version_info.append(sentence)\n",
        "\n",
        "  if check_word_in_sentence(\"iOS\", sentence):\n",
        "    ios_info.append(sentence)\n",
        "\n",
        "  if check_word_in_sentence(\"update\", sentence):\n",
        "    update_info.append(sentence)\n",
        "\n",
        "\n",
        "knowledge_base[\"Stardew Valley\"] = stardew_valley_info\n",
        "knowledge_base[\"ChuckleFish\"] = ChuckleFish_info\n",
        "knowledge_base[\"Eric Barone\"] = Eric_Barone_info\n",
        "knowledge_base[\"ConcernedApe\"] = ConcernedApe_info\n",
        "knowledge_base[\"mobile\"] = mobile_info\n",
        "knowledge_base[\"music\"] = music_info\n",
        "knowledge_base[\"multiplayer\"] = multiplayer_info\n",
        "knowledge_base[\"album\"] = album_info\n",
        "knowledge_base[\"android\"] = android_info\n",
        "knowledge_base[\"version\"] = version_info\n",
        "knowledge_base[\"iOS\"] = ios_info\n",
        "knowledge_base[\"update\"] = update_info\n",
        "\n",
        "# Update infomation\n",
        "#print(knowledge_base)\n",
        "\n",
        "for key in knowledge_base.keys():\n",
        "  print(key, len(knowledge_base[key]))"
      ],
      "metadata": {
        "id": "l3Tk7RJlh3JV",
        "colab": {
          "base_uri": "https://localhost:8080/"
        },
        "outputId": "8dfa5a51-347f-4ac9-aed8-497dcad15739"
      },
      "execution_count": 11,
      "outputs": [
        {
          "output_type": "stream",
          "name": "stdout",
          "text": [
            "Stardew Valley 125\n",
            "ChuckleFish 11\n",
            "Eric Barone 72\n",
            "ConcernedApe 8\n",
            "mobile 8\n",
            "music 12\n",
            "multiplayer 15\n",
            "album 8\n",
            "android 6\n",
            "version 10\n",
            "iOS 11\n",
            "update 14\n"
          ]
        }
      ]
    },
    {
      "cell_type": "code",
      "source": [
        "import pickle\n",
        "\n",
        "with open('knowledge_base.pickle', 'wb') as handle:\n",
        "  pickle.dump(knowledge_base, handle)"
      ],
      "metadata": {
        "id": "bm7KmYbrDxOR"
      },
      "execution_count": 13,
      "outputs": []
    }
  ]
}